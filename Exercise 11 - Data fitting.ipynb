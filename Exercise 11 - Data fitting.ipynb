{
  "cells": [
    {
      "cell_type": "markdown",
      "metadata": {
        "id": "view-in-github",
        "colab_type": "text"
      },
      "source": [
        "<a href=\"https://colab.research.google.com/github/dhyannnn/2030-Assignments/blob/main/Exercise%2011%20-%20Data%20fitting.ipynb\" target=\"_parent\"><img src=\"https://colab.research.google.com/assets/colab-badge.svg\" alt=\"Open In Colab\"/></a>"
      ]
    },
    {
      "cell_type": "markdown",
      "metadata": {
        "id": "pDaqi0hXsLYF"
      },
      "source": [
        "__Dhyan Thakkar__\n",
        "<br>\n",
        "Date: Feb. 4, 2022\n",
        "<br>\n",
        "PHYS 2030 W22"
      ]
    },
    {
      "cell_type": "markdown",
      "metadata": {
        "id": "hNPM9C0tsLYH"
      },
      "source": [
        "# <center><font color=#46769B>Exercise 11: Data fitting</font></center>\n",
        "\n",
        "## <font color=#46769B>Introduction</font>\n",
        "\n",
        "Let's say you have some observed data and a mathematical model that you would like to use to fit the data. The model depends on a parameter, say, $x$. You would like to know what the data tells you about $x$. \n",
        "\n",
        "Monte Carlo sampling is a general method to handle this type of problem, known as an __inverse problem__. In a \"non-inverse\" problem, we might have a PDF for $x$, $P(x)$, which we then use to calculate an observable. Here, we are going in the opposite direction: using the observables (measured by observations) to determine the PDF for $x$.\n",
        "\n",
        "To be more quantitative, here is the setup.\n",
        "Let $v_1$, $v_2$, $v_3$, etc. denote observables that have been measured. Their means and uncertainties are denoted by $\\mu_k$ and $\\sigma_k$, so we would quote the measurements as\n",
        "$$v_1 = \\mu_1 \\pm \\sigma_1 , \\quad v_2 = \\mu_2 \\pm \\sigma_2, \\quad v_3 = \\mu_3 \\pm \\sigma_3 , \\, ... $$ \n",
        "We have a mathematical model that will allow us to calculate each of these quantities in terms of a parameter $x$:\n",
        "$$v_1 = f_1(x) , \\quad v_2 = f_2(x) , \\quad v_3 = f_3(x), \\, ...$$\n",
        "We need a way to calculate how well the model and data agree. We will calculate the chi-squared:\n",
        "$$\\chi^2(x) = \\frac{(f_1(x) -\\mu_1)^2}{\\sigma_1^2} + \\frac{(f_2(x) - \\mu_2)^2}{\\sigma_2^2} + ... \n",
        "= \\sum_{k=1}^n \\frac{(f_k(x) - \\mu_k)^2}{\\sigma_k^2}$$\n",
        "where we have $n$ data points, labeled by index $k$.\n",
        "We write $\\chi^2(x)$ to make it clear that although we are summing over a list of data points, this quantity is just a function of the parameter $x$. The PDF for $x$ is related to the $\\chi^2$ by\n",
        "$$P(x) \\propto e^{-\\frac{1}{2}\\chi^2(x)} \\, .$$\n",
        "There is an overall constant of proportionality that can (in principle) be determined by the normalization condition, $\\int_{-\\infty}^{\\infty} dx \\, P(x) = 1$.\n",
        "\n",
        "Now that we have fixed $P(x)$, we can use importance sampling to estimate the mean value of $x$ and the standard deviation, i.e., $\\mu_x$ and $\\sigma_x$, respectively.\n",
        "\n",
        "Our goals for this notebook are:\n",
        "- Use importance sampling to fit parameters from data.\n",
        "\n",
        "Required reading:\n",
        "- *Lesson 5: Multivariate distributions*\n",
        "\n"
      ]
    },
    {
      "cell_type": "markdown",
      "metadata": {
        "id": "4F3Ltu8ysLYI"
      },
      "source": [
        "## <font color=#46769B>Background</font>\n",
        "\n",
        "In this Exercise, we will consider astrophysical data obtained by radio-wave observations of a nearby dwarf galaxy, DDO154, by [The HI Near Galaxy Survey (THINGS)](https://www2.mpia-hd.mpg.de/THINGS/Overview.html).\n",
        "By fitting to this data, we will show that the galaxy is mostly made up of dark matter, which cannot be seen directly but is inferred through its gravitational pull.\n",
        "\n",
        "First, let's describe the physics. In spiral galaxies, stars and gas move in circular orbits around the center of the galaxy. The centripetal force that holds them in a circular orbit is simply the force of gravity.\n",
        "\n",
        "<div>\n",
        "<img src=\"https://github.com/PHYS-2030-Computational-Methods/Lecture-notes/raw/main/figures/rotation.png\" width=\"400\">\n",
        "<i>Figure credit (background): European Southern Observatory</i>\n",
        "</div>\n",
        "\n",
        "Suppose we have a star of mass $m_\\star$, located at a radius $r$, moving with circular velocity $v$.\n",
        "Its centripetal force is $F_{\\rm cent} = \\frac{m_\\star v^2}{r}$. Its gravitational force is $F_{\\rm grav} = \\frac{G_N m_\\star M}{r^2}$, where $G_N$ is Newton's gravitational constant and $M$ is the mass that exerts a gravitational pull on the star.\n",
        "Setting the centripetal force equal to the gravitational force, we have the following relation for $v$:\n",
        "$$v = \\sqrt{\\frac{G_N M(r)}{r}} \\, . \\qquad (1)$$\n",
        "\n",
        "### <font color=#46769B>Enclosed mass function $M(r)$</font>\n",
        "\n",
        "Note we have written $M(r)$. Let's clarify what this means.\n",
        "Recall [Newton proved that](https://en.wikipedia.org/wiki/Shell_theorem) a traveler approaching the center of the Earth will feel less and less the effect of gravity until they become weightless at the center.\n",
        "Similarly, if the distribution of mass is spherically symmetric in a galaxy, a star at larger radius will feel the gravitational pull from more of the mass compared to a star at a smaller radius.\n",
        "For a star at radius $r$, it feels the pull of all mass interior to $r$ (i.e., within a sphere of radius $r$).\n",
        "\n",
        "We will adopt the following function for the enclosed mass\n",
        "$$M(r) = \\frac{M_{\\rm tot} r^3}{(r + a)^3} \\, .$$\n",
        "It is a function of radius $r$ and two parameters: \n",
        "- $M_{\\rm tot}$ is the total mass of the galaxy, in units of solar masses $M_{\\odot}$. That is, $M(r) \\to M_{\\rm tot}$ in the limit $r \\to \\infty$. Note $M_{\\rm tot}$ includes all forms of matter that gravitate, not just the visible stars and gas that can be seen directly.\n",
        "- $a$ is a length parameter, in units of kiloparsecs (kpc). $a$ represents a characteristic size of the galaxy.\n",
        "\n",
        "When sampling, it is sometimes useful to work in the logarithm of a variable, instead of the variable itself.\n",
        "Let's define\n",
        "$$x = \\log_{10}(a/{\\rm kpc}) \\, , \\qquad y = \\log_{10}(M_{\\rm tot}/{\\rm kpc}) $$\n",
        "or equivalently\n",
        "$$a = 10^x \\; {\\rm kpc} , \\quad M_{\\rm tot} = 10^y \\; M_\\odot \\, .$$\n",
        "Finally, $x$ and $y$ will be the variables that we will sample to determine $M_{\\rm tot}$ and $a$."
      ]
    },
    {
      "cell_type": "markdown",
      "metadata": {
        "id": "nBXn2N3gsLYJ"
      },
      "source": [
        "### <font color=#46769B>Rotation curve data</font>\n",
        "\n",
        "Here is a picture of the galaxy we will consider, DDO 154. \n",
        "\n",
        "<div>\n",
        "<img src=\"https://github.com/PHYS-2030-Computational-Methods/Lecture-notes/raw/main/figures/ddo154_color.jpg\" width=\"300\">\n",
        "<i>Figure credit: National Radio Astronomy Observatory</i>\n",
        "</div>\n",
        "\n",
        "Telescopes have measured the radio waves from the galaxy's hydrogen gas, which is emitted at a characteristic wavelength of $\\lambda = 21$ cm in hyperfine transitions. \n",
        "The circular velocity is inferred by how the radio waves are redshifted or blueshifted away from this wavelength due to the relativistic Doppler effect.\n",
        "\n",
        "In the cell below, we provide the data:\n",
        "- `radius` is the list of $r$ values at which the rotation curve is measured (in kpc).\n",
        "- `mu` is the list of mean values of the circular velocities measured at each radius (in km/s).\n",
        "- `sigma` is the list of uncertainties on the circular velocity, at each radius (in km/s).\n",
        "\n",
        "We plot the data, which is known as a *rotation curve*, using `matplotlib.pyplot.errorbar` to make a plot with error bars."
      ]
    },
    {
      "cell_type": "code",
      "execution_count": 4,
      "metadata": {
        "id": "7dpN0g5msLYJ",
        "outputId": "f3cf220b-199b-428c-cd9f-26705daaaef6",
        "colab": {
          "base_uri": "https://localhost:8080/",
          "height": 295
        }
      },
      "outputs": [
        {
          "output_type": "display_data",
          "data": {
            "image/png": "[encoded data removed]",
            "text/plain": [
              "<Figure size 432x288 with 1 Axes>"
            ]
          },
          "metadata": {
            "needs_background": "light"
          }
        }
      ],
      "source": [
        "import numpy as np\n",
        "import matplotlib.pyplot as plt\n",
        "\n",
        "# Data\n",
        "\n",
        "# radius (kpc) \n",
        "radius = np.array([0.14, 0.29, 0.43, 0.57, 0.72, 0.86, 1.  , 1.15, 1.29, 1.44, 1.58,\n",
        "                   1.72, 1.87, 2.01, 2.15, 2.3 , 2.44, 2.58, 2.73, 2.87, 3.01, 3.16,\n",
        "                   3.3 , 3.44, 3.59, 3.73, 3.87, 4.02, 4.16, 4.31, 4.45, 4.59, 4.74,\n",
        "                   4.88, 5.02, 5.17, 5.31, 5.45, 5.6 , 5.74, 5.88, 6.03, 6.17, 6.31,\n",
        "                   6.46, 6.6 , 6.74, 6.89, 7.03, 7.18, 7.32, 7.46, 7.61, 7.75, 7.89])\n",
        "\n",
        "# mean circular velocity v (km/s) \n",
        "mu = np.array([  5.77, 10.98, 14.65, 16.02, 19.01, 21.58, 24.06, 24.68, 26.55,\n",
        "                29.44, 31.67, 33.67, 34.35, 35.06, 36.08, 36.16, 37.32, 38.39,\n",
        "                39.8 , 40.48, 41.13, 42.01, 42.8 , 43.19, 43.91, 44.44, 45.02,\n",
        "                45.79, 46.22, 46.81, 47.13, 46.73, 46.98, 46.54, 45.47, 47.11,\n",
        "                46.96, 45.65, 44.21, 44.21, 44.63, 45.9 , 44.66, 44.7 , 45.64,\n",
        "                44.01, 43.69, 45.49, 46.04, 44.67, 47.02, 50.15, 50.72, 48.32, 50.42])\n",
        "\n",
        "# error for circular velocity v (km/s) \n",
        "sigma = np.array([2.59, 2.43, 2.15, 3.09, 2.62, 2.61, 2.34, 2.97, 5.39, 6.27, 6.34,\n",
        "                  7.09, 7.31, 6.57, 6.35, 5.53, 5.24, 4.96, 4.85, 4.81, 4.33, 4.13,\n",
        "                  3.78, 3.37, 3.41, 3.37, 3.43, 3.71, 3.65, 4.18, 4.72, 4.55, 4.53,\n",
        "                  4.63, 4.68, 4.81, 4.71, 5.02, 5.16, 4.97, 5.49, 5.25, 4.78, 5.74,\n",
        "                  5.77, 6.18, 5.95, 5.41, 5.58, 4.76, 5.66, 6.54, 5.12, 6.92, 5.61])\n",
        "              \n",
        "plt.errorbar(radius,mu,yerr=sigma,fmt='.',label='DDO154 data') \n",
        "plt.xlabel('Radius (kpc)')\n",
        "plt.ylabel('Circular velocity (km/s)')\n",
        "plt.title('Rotation curve')\n",
        "\n",
        "plt.legend()\n",
        "plt.show()\n"
      ]
    },
    {
      "cell_type": "markdown",
      "metadata": {
        "id": "N_pctlF6sLYL"
      },
      "source": [
        "## <font color=#46769B>Part (a)</font>\n",
        "\n",
        "Using importance sampling, the goal is to determine the total mass $M_{\\rm tot}$ of DDO 154. As usual, $P(x,y)$ is the target distribution and $Q(x,y)$ is the proposal distribution.\n",
        "\n",
        "Here are the steps to follow:\n",
        "- Write a function `chi_sq(x,y)` that will compute $\\chi^2(x,y)$ for a given input values of $x,y$. The formula is\n",
        "$$\\chi^2(x,y) = \\sum_{k=1}^n \\frac{(f_k(x,y) - \\mu_k)^2}{\\sigma_k^2}$$\n",
        "where the $\\mu_k$ and $\\sigma_k$ are the circular velocity means `mu` and uncertainties for the data `sigma` (given above).\n",
        "The model prediction for the circular velocity is\n",
        "$$f_k(x,y) = \\sqrt{ \\frac{G_N}{r_k} \\frac{M_{\\rm tot} r_k^3}{(r_k+a)^3}} = \\sqrt{ \\frac{G_N 10^y r_k^2}{(r_k+10^x)^3}} $$\n",
        "where $r_k$ values are radius values in `radius` (given above). Also, Newton's constant in the appropriate units is $G_N = 4.302 \\times 10^{-6} \\; {\\rm (km/s)^2} \\,{\\rm kpc}/M_{\\odot}$.\n",
        "- Write a function \n",
        "```py\n",
        "def P(x,y):\n",
        "    return A*np.exp(-0.5*chi_sq(x,y))\n",
        "```\n",
        "to compute the target distribution, where $A = 8445.264$ is a normalizing constant.\n",
        "- Consider a proposal distribution $Q(x,y)$ that is a multivariate normal distribution. Generate $N=10^6$ samples from $Q(x,y)$ and compute the corresponding weights. (*Hint: Since you may not know ahead of time what values of $x,y$ have the largest weights, you may wish to follow an iterative approach, as in Exercise 10.*)"
      ]
    },
    {
      "cell_type": "code",
      "execution_count": 8,
      "metadata": {
        "id": "WaajaV0osLYM"
      },
      "outputs": [],
      "source": [
        "import numpy as np\n",
        "import matplotlib.pyplot as plt \n",
        "\n",
        "GN = 4.302**-6\n",
        "A = 8445.264\n",
        "\n",
        "def chi_sq(x,y):\n",
        "    \n",
        "    # Calculate a, Mtot\n",
        "    a = 10**x\n",
        "    Mtot = 10**y\n",
        "    \n",
        "    # Calculate predicted circular velocity\n",
        "    M = Mtot*radius**3/(a+radius)**3\n",
        "    f = np.sqrt(GN*M/radius)\n",
        "    \n",
        "    # return chi^2\n",
        "    return np.sum((f-mu)**2/sigma**2)\n",
        "\n",
        "def P(x,y):\n",
        "    return A*np.exp(-0.5*chi_sq(x,y))"
      ]
    },
    {
      "cell_type": "code",
      "source": [
        "# Scanning for x and y values where chi_sq is minimum \n",
        "\n",
        "x_range = np.linspace(-20,20,num=100)\n",
        "y_range = np.linspace(-20,20,num=100)\n",
        "\n",
        "# Some dummy initial value for chi^2\n",
        "chi_sq_min = 10**6\n",
        "\n",
        "# Find the values of x,y in the grid where chi_sq is smallest\n",
        "\n",
        "for x in x_range:\n",
        "    for y in y_range:\n",
        "        \n",
        "        chi_sq_new = chi_sq(x,y)\n",
        "        \n",
        "        if chi_sq_new < chi_sq_min:\n",
        "            \n",
        "            chi_sq_min = chi_sq_new\n",
        "            x_min = x\n",
        "            y_min = y\n",
        "            \n",
        "print(x_min, y_min, P(x_min,y_min))"
      ],
      "metadata": {
        "id": "BH0NeA5v4PD6",
        "outputId": "513d754f-3f1a-476c-a333-6bc84d876f8e",
        "colab": {
          "base_uri": "https://localhost:8080/"
        }
      },
      "execution_count": 15,
      "outputs": [
        {
          "output_type": "stream",
          "name": "stdout",
          "text": [
            "0.6060606060606055 8.686868686868685 6.529083190750227e-07\n"
          ]
        }
      ]
    },
    {
      "cell_type": "code",
      "source": [
        "# Scanning over a narrower range of x and y values \n",
        "\n",
        "x_range = np.linspace(0,1,num=100)\n",
        "y_range = np.linspace(8,9,num=100)\n",
        "\n",
        "# Some dummy initial value for chi^2\n",
        "chi_sq_min = 10**6\n",
        "\n",
        "# Find the values of x,y in the grid where chi_sq is smallest\n",
        "\n",
        "for x in x_range:\n",
        "    for y in y_range:\n",
        "        \n",
        "        chi_sq_new = chi_sq(x,y)\n",
        "        \n",
        "        if chi_sq_new < chi_sq_min:\n",
        "            \n",
        "            chi_sq_min = chi_sq_new\n",
        "            x_min = x\n",
        "            y_min = y\n",
        "            \n",
        "print(x_min, y_min, P(x_min,y_min))"
      ],
      "metadata": {
        "id": "vBmgH3LU5MM6",
        "outputId": "7994833a-03ed-46f6-c839-c67a7abf233b",
        "colab": {
          "base_uri": "https://localhost:8080/"
        }
      },
      "execution_count": 17,
      "outputs": [
        {
          "output_type": "stream",
          "name": "stdout",
          "text": [
            "0.5252525252525253 8.494949494949495 361.2173009159237\n"
          ]
        }
      ]
    },
    {
      "cell_type": "code",
      "source": [
        "num = 10**4\n",
        "\n",
        "# Initial guesses\n",
        "mu_x = 0.525\n",
        "mu_y = 8.495\n",
        "C = [[0.001,0],[0,0.001]]\n",
        "\n",
        "# Code for calculating weighted means and covariance matrix\n",
        "def mean(x,weights=None):\n",
        "    \n",
        "    if weights is not None:\n",
        "        return np.mean(weights*x)\n",
        "    else:\n",
        "        return np.mean(x)\n",
        "    \n",
        "def std(x,weights=None):\n",
        "    \n",
        "    if weights is not None:\n",
        "        return np.sqrt( np.mean(weights*x**2) - np.mean(weights*x)**2 )\n",
        "    else:\n",
        "        return np.std(x)\n",
        "    \n",
        "def cov_matrix(x,y,weights=None):\n",
        "    \n",
        "    if weights is not None:\n",
        "        x_mean = np.mean(weights*x)\n",
        "        y_mean = np.mean(weights*y)\n",
        "            \n",
        "        # Calculate each entry as a function\n",
        "        C_xx = np.mean(weights*(x-x_mean)**2)\n",
        "        C_yy = np.mean(weights*(y-y_mean)**2)\n",
        "        C_xy = np.mean(weights*(x-x_mean)*(y-y_mean))\n",
        "        \n",
        "        return np.array([[C_xx,C_xy],[C_xy,C_yy]])\n",
        "    \n",
        "    else:\n",
        "        # Use built-in numpy function\n",
        "        return np.cov([x,y])\n",
        "    \n",
        "# Perform 10 simulations, each time updating guesses for mu_x,y and sigma_x,y\n",
        "for i in range(10):\n",
        "\n",
        "    print(mu_x,mu_y)\n",
        "    print(C)\n",
        "    \n",
        "    mu_xy = np.array([mu_x,mu_y])\n",
        "    Cinv = np.linalg.inv(C)\n",
        "    detC = np.linalg.det(C)\n",
        "    \n",
        "    def Q(x,y):\n",
        "        r = np.array([x,y]) - mu_xy\n",
        "        prefactor = 1/(2*np.pi*np.sqrt(detC))\n",
        "        exponent = 0.5*(r @ Cinv @ r)\n",
        "        return prefactor*np.exp(-exponent)\n",
        "\n",
        "    r_samples = np.random.multivariate_normal(mu_xy,C,num)\n",
        "    \n",
        "    x_samples = r_samples[:,0]\n",
        "    y_samples = r_samples[:,1]\n",
        "    \n",
        "    w = np.zeros(num)\n",
        "    for j in range(num):\n",
        "        x = x_samples[j]\n",
        "        y = y_samples[j]\n",
        "        w[j] = P(x,y)/Q(x,y)\n",
        "        \n",
        "    # Show a histogram to see how we are doing\n",
        "    plt.figure(figsize=(6,6))\n",
        "    plt.hist2d(x_samples,y_samples,weights=w,bins=[30,30])\n",
        "    plt.show()\n",
        "    \n",
        "    mu_x = mean(x_samples,weights=w)\n",
        "    mu_y = mean(y_samples,weights=w)\n",
        "    C = cov_matrix(x_samples,y_samples,weights=w)"
      ],
      "metadata": {
        "id": "fjIwp9JG5aKJ",
        "outputId": "607486f6-64f6-4bc9-f619-b6e54cf599e5",
        "colab": {
          "base_uri": "https://localhost:8080/",
          "height": 1000
        }
      },
      "execution_count": 18,
      "outputs": [
        {
          "output_type": "stream",
          "name": "stdout",
          "text": [
            "0.525 8.495\n",
            "[[0.001, 0], [0, 0.001]]\n"
          ]
        },
        {
          "output_type": "display_data",
          "data": {
            "image/png": "[encoded data removed]",
            "text/plain": [
              "<Figure size 432x432 with 1 Axes>"
            ]
          },
          "metadata": {
            "needs_background": "light"
          }
        },
        {
          "output_type": "stream",
          "name": "stdout",
          "text": [
            "0.5011192486600666 8.030962046875397\n",
            "[[0.00150096 0.01401325]\n",
            " [0.01401325 0.21059795]]\n"
          ]
        },
        {
          "output_type": "display_data",
          "data": {
            "image/png": "[encoded data removed]",
            "text/plain": [
              "<Figure size 432x432 with 1 Axes>"
            ]
          },
          "metadata": {
            "needs_background": "light"
          }
        },
        {
          "output_type": "stream",
          "name": "stdout",
          "text": [
            "0.5491433534983011 8.741025955488512\n",
            "[[0.00118581 0.00486193]\n",
            " [0.00486193 0.05805284]]\n"
          ]
        },
        {
          "output_type": "display_data",
          "data": {
            "image/png": "[encoded data removed]",
            "text/plain": [
              "<Figure size 432x432 with 1 Axes>"
            ]
          },
          "metadata": {
            "needs_background": "light"
          }
        },
        {
          "output_type": "stream",
          "name": "stdout",
          "text": [
            "0.5220131784237148 8.342144640096164\n",
            "[[0.00112977 0.00308944]\n",
            " [0.00308944 0.02812122]]\n"
          ]
        },
        {
          "output_type": "display_data",
          "data": {
            "image/png": "[encoded data removed]",
            "text/plain": [
              "<Figure size 432x432 with 1 Axes>"
            ]
          },
          "metadata": {
            "needs_background": "light"
          }
        },
        {
          "output_type": "stream",
          "name": "stdout",
          "text": [
            "0.5423315125405973 8.64148773225983\n",
            "[[0.00112566 0.0026366 ]\n",
            " [0.0026366  0.02074566]]\n"
          ]
        },
        {
          "output_type": "display_data",
          "data": {
            "image/png": "[encoded data removed]",
            "text/plain": [
              "<Figure size 432x432 with 1 Axes>"
            ]
          },
          "metadata": {
            "needs_background": "light"
          }
        },
        {
          "output_type": "stream",
          "name": "stdout",
          "text": [
            "0.5110334890689637 8.153889814891409\n",
            "[[0.0014416  0.00879669]\n",
            " [0.00879669 0.12012593]]\n"
          ]
        },
        {
          "output_type": "display_data",
          "data": {
            "image/png": "[encoded data removed]",
            "text/plain": [
              "<Figure size 432x432 with 1 Axes>"
            ]
          },
          "metadata": {
            "needs_background": "light"
          }
        },
        {
          "output_type": "stream",
          "name": "stdout",
          "text": [
            "0.4939763275057766 7.875866451279758\n",
            "[[0.00238716 0.02442715]\n",
            " [0.02442715 0.36996814]]\n"
          ]
        },
        {
          "output_type": "display_data",
          "data": {
            "image/png": "[encoded data removed]",
            "text/plain": [
              "<Figure size 432x432 with 1 Axes>"
            ]
          },
          "metadata": {
            "needs_background": "light"
          }
        },
        {
          "output_type": "stream",
          "name": "stdout",
          "text": [
            "0.49529115957340475 7.943541276749966\n",
            "[[0.00227816 0.01968433]\n",
            " [0.01968433 0.29205069]]\n"
          ]
        },
        {
          "output_type": "display_data",
          "data": {
            "image/png": "[encoded data removed]",
            "text/plain": [
              "<Figure size 432x432 with 1 Axes>"
            ]
          },
          "metadata": {
            "needs_background": "light"
          }
        },
        {
          "output_type": "stream",
          "name": "stdout",
          "text": [
            "0.44487823917456343 7.135300445793911\n",
            "[[0.00710163 0.09910862]\n",
            " [0.09910862 1.5687549 ]]\n"
          ]
        },
        {
          "output_type": "display_data",
          "data": {
            "image/png": "[encoded data removed]",
            "text/plain": [
              "<Figure size 432x432 with 1 Axes>"
            ]
          },
          "metadata": {
            "needs_background": "light"
          }
        },
        {
          "output_type": "stream",
          "name": "stdout",
          "text": [
            "0.5037344773180719 8.017619967760922\n",
            "[[0.00172904 0.01534635]\n",
            " [0.01534635 0.2276034 ]]\n"
          ]
        },
        {
          "output_type": "display_data",
          "data": {
            "image/png": "[encoded data removed]",
            "text/plain": [
              "<Figure size 432x432 with 1 Axes>"
            ]
          },
          "metadata": {
            "needs_background": "light"
          }
        }
      ]
    },
    {
      "cell_type": "code",
      "source": [
        "# Final run with num = 10**6 samples\n",
        "\n",
        "num = 10**6\n",
        "\n",
        "mu_xy = np.array([mu_x,mu_y])\n",
        "Cinv = np.linalg.inv(C)\n",
        "detC = np.linalg.det(C)\n",
        "\n",
        "def Q(x,y):\n",
        "    r = np.array([x,y]) - mu_xy\n",
        "    prefactor = 1/(2*np.pi*np.sqrt(detC))\n",
        "    exponent = 0.5*(r @ Cinv @ r)\n",
        "    return prefactor*np.exp(-exponent)\n",
        "\n",
        "r_samples = np.random.multivariate_normal(mu_xy,C,num)\n",
        "\n",
        "x_samples = r_samples[:,0]\n",
        "y_samples = r_samples[:,1]\n",
        "\n",
        "w = np.zeros(num)\n",
        "for j in range(num):\n",
        "    x = x_samples[j]\n",
        "    y = y_samples[j]\n",
        "    w[j] = P(x,y)/Q(x,y)\n",
        "# Make histogram\n",
        "plt.figure(figsize=(6,6))\n",
        "\n",
        "# Custom bins\n",
        "bins = [np.linspace(0.4,0.65,num=100),np.linspace(8,8.7,num=100)]\n",
        "plt.hist2d(x_samples,y_samples,weights=w,bins=bins)\n",
        "plt.xlabel('x')\n",
        "plt.ylabel('y')\n",
        "plt.show()"
      ],
      "metadata": {
        "id": "VKyoNBC657bw",
        "outputId": "7b569b97-a935-4f24-c1ca-c0a64accf808",
        "colab": {
          "base_uri": "https://localhost:8080/",
          "height": 392
        }
      },
      "execution_count": 21,
      "outputs": [
        {
          "output_type": "display_data",
          "data": {
            "image/png": "[encoded data removed]",
            "text/plain": [
              "<Figure size 432x432 with 1 Axes>"
            ]
          },
          "metadata": {
            "needs_background": "light"
          }
        }
      ]
    },
    {
      "cell_type": "markdown",
      "metadata": {
        "id": "KLCP7nnnsLYM"
      },
      "source": [
        "## <font color=#46769B>Part (b)</font>\n",
        "\n",
        "Given your samples from Part (a), let's analyze them:\n",
        "- From your samples, compute the (weighted) mean $\\langle M_{\\rm tot} \\rangle$ and uncertainty $\\Delta M_{\\rm tot}$.\n",
        "- From your samples, compute the (weighted) mean $\\langle a \\rangle$ and uncertainty $\\Delta a$.\n",
        "- Plot marginalized (weighted) histograms for $M_{\\rm tot}$ and $a$.\n",
        "- Plot the rotation curve data again (the `errorbar` plot above) and add to it a plot of your $v(r)$ vs $r$, where $v(r)$ is given in Eq. (1) and use your mean values of $M_{\\rm tot}$ and $a$ in $M(r)$.\n",
        "\n",
        "## <font color=#46769B>For your consideration</font>\n",
        "\n",
        "Observations of DDO 154 have found that the total *luminous* matter in the galaxy, namely the visible stars and gas that can be seen directly, is around $3 \\times 10^8 \\; M_\\odot$. If the value of $M_{\\rm tot}$ is much larger than this, that is evidence for an extra form of matter, dark matter, that cannot be seen! Though it cannot be seen, its presence is seen *indirectly* through the gravitational pull it exerts on the luminous matter."
      ]
    },
    {
      "cell_type": "code",
      "execution_count": 39,
      "metadata": {
        "id": "6gb-olS9sLYM",
        "outputId": "38645848-08b7-4530-b02f-cde1b5135575",
        "colab": {
          "base_uri": "https://localhost:8080/",
          "height": 909
        }
      },
      "outputs": [
        {
          "output_type": "stream",
          "name": "stdout",
          "text": [
            "Mean Mtot is 321186521.98105603\n",
            "Mean a is 3.4118015261752133\n",
            "Uncertainty in Mtot is 39737589.19185893\n",
            "Uncertainty in a is 0.3152888360307508\n"
          ]
        },
        {
          "output_type": "display_data",
          "data": {
            "image/png": "[encoded data removed]",
            "text/plain": [
              "<Figure size 432x288 with 1 Axes>"
            ]
          },
          "metadata": {
            "needs_background": "light"
          }
        },
        {
          "output_type": "display_data",
          "data": {
            "image/png": "[encoded data removed]",
            "text/plain": [
              "<Figure size 432x288 with 1 Axes>"
            ]
          },
          "metadata": {
            "needs_background": "light"
          }
        },
        {
          "output_type": "display_data",
          "data": {
            "image/png": "[encoded data removed]",
            "text/plain": [
              "<Figure size 432x288 with 1 Axes>"
            ]
          },
          "metadata": {
            "needs_background": "light"
          }
        }
      ],
      "source": [
        "# Your code here\n",
        "M_tot_samples = 10**y_samples\n",
        "a_samples = 10**x_samples\n",
        "\n",
        "print(\"Mean Mtot is\", mean(M_tot_samples,weights=w))\n",
        "print(\"Mean a is\", mean(a_samples,weights=w))\n",
        "\n",
        "print(\"Uncertainty in Mtot is\", std(M_tot_samples,weights=w))\n",
        "print(\"Uncertainty in a is\", std(a_samples,weights=w))\n",
        "\n",
        "# Marginalized histograms\n",
        "bins=np.linspace(0,0.15e10,num=50)\n",
        "plt.hist(M_tot_samples,weights=w,bins=bins,density=True)\n",
        "plt.xlabel(r'$M_{tot} \\; (M_\\odot)$')\n",
        "plt.ylim(0,1.3*(10**-8))\n",
        "plt.xlim(0,0.8*(10**9))\n",
        "plt.show()\n",
        "\n",
        "# Marginalized histograms\n",
        "bins=np.linspace(0,7,num=50)\n",
        "plt.hist(a_samples,weights=w,bins=bins,density=True)\n",
        "plt.xlabel(r'$a \\; (kpc)$')\n",
        "plt.show()\n",
        "\n",
        "\n",
        "plt.errorbar(radius,mu,yerr=sigma,fmt='.',label='DDO154 data') \n",
        "plt.xlabel('Radius (kpc)')\n",
        "plt.ylabel('Circular velocity (km/s)')\n",
        "plt.title('Rotation curve')\n",
        "\n",
        "# Predicted model\n",
        "\n",
        "M_tot = mean(M_tot_samples,weights=w)\n",
        "a = mean(a_samples,weights=w)\n",
        "\n",
        "vc = np.sqrt(GN*M_tot*radius**2/(a+radius)**3)\n",
        "plt.plot(radius,vc,label='Model')\n",
        "\n",
        "plt.legend()\n",
        "plt.show()"
      ]
    },
    {
      "cell_type": "code",
      "source": [
        ""
      ],
      "metadata": {
        "id": "QrUMQrJe7CY7"
      },
      "execution_count": null,
      "outputs": []
    }
  ],
  "metadata": {
    "kernelspec": {
      "display_name": "Python 3",
      "language": "python",
      "name": "python3"
    },
    "language_info": {
      "codemirror_mode": {
        "name": "ipython",
        "version": 3
      },
      "file_extension": ".py",
      "mimetype": "text/x-python",
      "name": "python",
      "nbconvert_exporter": "python",
      "pygments_lexer": "ipython3",
      "version": "3.7.6"
    },
    "colab": {
      "name": "Exercise 11 - Data fitting.ipynb",
      "provenance": [],
      "include_colab_link": true
    }
  },
  "nbformat": 4,
  "nbformat_minor": 0
}