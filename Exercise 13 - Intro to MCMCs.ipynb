{
  "cells": [
    {
      "cell_type": "markdown",
      "metadata": {
        "id": "view-in-github",
        "colab_type": "text"
      },
      "source": [
        "<a href=\"https://colab.research.google.com/github/dhyannnn/2030-Assignments/blob/main/Exercise%2013%20-%20Intro%20to%20MCMCs.ipynb\" target=\"_parent\"><img src=\"https://colab.research.google.com/assets/colab-badge.svg\" alt=\"Open In Colab\"/></a>"
      ]
    },
    {
      "cell_type": "markdown",
      "metadata": {
        "id": "zPkB-F75nzNR"
      },
      "source": [
        "__Dhyan Thakkar__\n",
        "<br>\n",
        "Date: Feb. 9, 2022\n",
        "<br>\n",
        "PHYS 2030 W22"
      ]
    },
    {
      "cell_type": "markdown",
      "metadata": {
        "id": "S23lSujpnzNW"
      },
      "source": [
        "# <center><font color=#46769B>Exercise 13: Introduction to MCMCs</font></center>\n",
        "\n",
        "## <font color=#46769B>Introduction</font>\n",
        "\n",
        "You will \n",
        "\n",
        "Our goals for this notebook are:\n",
        "- Gain familiarity with MCMC methods.\n",
        "- Implement a simple MCMC for a Bernoulli distribution using the Metropolis algorithm.\n",
        "\n",
        "Required reading:\n",
        "- *Lesson 6: Markov Chain Monte Carlo*\n",
        "\n"
      ]
    },
    {
      "cell_type": "markdown",
      "metadata": {
        "id": "2X3ZXVMinzNY"
      },
      "source": [
        "## <font color=#46769B>Exercise</font>\n",
        "\n",
        "Suppose we have a Bernoulli distribution (a single coin flip) with probability $p$ for heads $(x=1)$ and probability $1-p$ for tails $(x=0)$. The probability is\n",
        "$$P(x) = \\left\\{ \\begin{array}{cl} p & x=1  \\\\ 1-p & x=0  \\end{array} \\right. \\, .$$\n",
        "Let $p=0.7$.\n",
        "\n",
        "Use the Metropolis algorithm to generate a chain of $N=10^5$ samples from $P(x)$, similar to the example code provided in Lesson 6. However, generalize the code to take the following transition probabilities:\n",
        "$$Q(x|0) = \\left\\{ \\begin{array}{cl} q & x=1  \\\\ 1-q & x=0 \\end{array} \\right. \\, , \\qquad \n",
        "Q(x|1) = \\left\\{ \\begin{array}{cl} 1-q & x=1  \\\\ q & x=0 \\end{array} \\right. \\, .$$\n",
        "where $q = 0.4$.\n",
        "\n",
        "Verify that your estimates for $\\langle x \\rangle$ and $\\Delta x$ agree, respectively, with the true mean $\\mu$ and standard deviation $\\sigma$ for $P(x)$.\n",
        "\n",
        "### <font color=#46769B>Hint</font>\n",
        "\n",
        "It may be helpful to define $Q$ as a matrix `Q = [[0.6, 0.4],[0.4,0.6]]`, such that, e.g., $Q(0|0)$ corresponds to `Q[0,0]`."
      ]
    },
    {
      "cell_type": "code",
      "execution_count": 82,
      "metadata": {
        "colab": {
          "base_uri": "https://localhost:8080/"
        },
        "id": "GX_MubAgnzNa",
        "outputId": "b9510ce9-530f-489f-99df-3555fc5d134d"
      },
      "outputs": [
        {
          "output_type": "stream",
          "name": "stdout",
          "text": [
            "The true mean is 0.7\n",
            "Our estimated mean is 0.69727\n",
            "The true standard deviation is 0.45825756949558405\n",
            "Our estimated standard deviation is 0.4594393834881812\n"
          ]
        }
      ],
      "source": [
        "import numpy as np \n",
        "p = 0.7\n",
        "num = 10**5\n",
        "# Define P(x)\n",
        "# Note: P[0] = 1-p (tails)\n",
        "#       P[1] = p   (heads)\n",
        "\n",
        "P = [1-p, p]\n",
        "\n",
        "# Define Q(x)\n",
        "\n",
        "Q = [[0.6, 0.4],[0.4,0.6]]\n",
        "\n",
        "\n",
        "# Initialize the first value in the chain [x0]\n",
        "x_samples = [0]\n",
        "\n",
        "for i in range(num-1):\n",
        "    \n",
        "    # Previous value of x\n",
        "    x_old = x_samples[i]\n",
        "    \n",
        "    # Sample new value of x\n",
        "    x_new = np.random.choice([0,1])\n",
        "    \n",
        "    # Acceptance ratio\n",
        "    A = P[x_new]/P[x_old]\n",
        "    \n",
        "    # Check whether accept or reject\n",
        "    \n",
        "    # Accept always\n",
        "    if A > 1:\n",
        "        x_samples.append(x_new)\n",
        "    \n",
        "    # Accept with probability A\n",
        "    else:\n",
        "      if x_old == 0:\n",
        "        r = np.random.choice([np.random.rand(), np.random.rand()], 1, p = Q[0])\n",
        "        if r < A:\n",
        "           x_samples.append(x_new)\n",
        "        else:\n",
        "            x_samples.append(x_old)\n",
        "      if x_old == 1:\n",
        "        r = np.random.choice([np.random.rand(), np.random.rand()], 1, p = Q[1])\n",
        "        if r < A:\n",
        "           x_samples.append(x_new)\n",
        "        else:\n",
        "            x_samples.append(x_old)\n",
        "\n",
        "print(\"The true mean is\", p)\n",
        "print(\"Our estimated mean is\", np.mean(x_samples))\n",
        "print(\"The true standard deviation is\", np.sqrt(p*(1-p)))\n",
        "print(\"Our estimated standard deviation is\", np.std(x_samples))"
      ]
    },
    {
      "cell_type": "code",
      "source": [
        ""
      ],
      "metadata": {
        "id": "kFqesu2UtwrS"
      },
      "execution_count": null,
      "outputs": []
    }
  ],
  "metadata": {
    "kernelspec": {
      "display_name": "Python 3",
      "language": "python",
      "name": "python3"
    },
    "language_info": {
      "codemirror_mode": {
        "name": "ipython",
        "version": 3
      },
      "file_extension": ".py",
      "mimetype": "text/x-python",
      "name": "python",
      "nbconvert_exporter": "python",
      "pygments_lexer": "ipython3",
      "version": "3.7.6"
    },
    "colab": {
      "name": "Exercise 13 - Intro to MCMCs.ipynb",
      "provenance": [],
      "include_colab_link": true
    }
  },
  "nbformat": 4,
  "nbformat_minor": 0
}