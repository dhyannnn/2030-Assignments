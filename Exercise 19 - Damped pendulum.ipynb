{
  "cells": [
    {
      "cell_type": "markdown",
      "metadata": {
        "id": "view-in-github",
        "colab_type": "text"
      },
      "source": [
        "<a href=\"https://colab.research.google.com/github/dhyannnn/2030-Assignments/blob/main/Exercise%2019%20-%20Damped%20pendulum.ipynb\" target=\"_parent\"><img src=\"https://colab.research.google.com/assets/colab-badge.svg\" alt=\"Open In Colab\"/></a>"
      ]
    },
    {
      "cell_type": "markdown",
      "metadata": {
        "id": "JTbYjOG_k1_q"
      },
      "source": [
        "__Dhyan Thakkar__\n",
        "<br>\n",
        "Date: Mar. 2, 2022\n",
        "<br>\n",
        "PHYS 2030 W22"
      ]
    },
    {
      "cell_type": "markdown",
      "metadata": {
        "id": "lzJlFzK3k1_t"
      },
      "source": [
        "# <center><font color=#46769B>Exercise 19: Damped pendulum</font></center>\n",
        "\n",
        "## <font color=#46769B>Introduction</font>\n",
        "\n",
        "Numerical methods for solving IVPs can be divided into explicit vs implicit methods. Consider a single first-order ODE\n",
        "\n",
        "$$y'(t) = f(t,y) \\, .$$\n",
        "\n",
        "For explicit methods, it is straightforward to compute the next step $y_{i+1}$ given the previous step $y_i$. For example, in the forward Euler method, this is\n",
        "\n",
        "$$y_{i+1} = y_i + h \\, f(t_i,y_i) \\, ,$$\n",
        "\n",
        "where the right-hand side only depends on the previous step. For implicit methods, it is less straightforward. For example, in the backward Euler method, we have\n",
        "\n",
        "$$y_{i+1} = y_i + h \\, f(t_{i+1},y_{i+1}) \\, .$$\n",
        "\n",
        "Since the right-hand side now depends on $y_{i+1}$, we need to solve this algebraic equation to determine the next step $y_{i+1}$ given the previous one $y_i$. Since only for the simplest function $f(t,y)$ can $y_{i+1}$ be solved for analytically, typically one must resort to numerical algorithms to solve for $y_{i+1}$ *at each step*. \n",
        "\n",
        "So what is point of implicit methods? Compared to explicit methods, implicit methods can be better behaved for larger step-sizes $h$ where explicit algorithms can blow-up. The situation arises for certain types of ODEs known as __stiff ODEs__. \n",
        "\n",
        "__Stiffness__ is characteristic of having different time scales in the problem. (For definiteness, we'll consider the variable $t$ as time.) Coupled ODEs can involve varying time scales: some evolution can occur on short time scales, some on long time scales. For explicit methods, the step-size cannot be much larger than the *smallest* time scale in the problem. Even if we are only interested in dynamics over longer time scales, we still need our algorithm to resolve down to the smallest time scales. Implicit methods, in contrast, are better behaved, giving reasonable results even if $h$ is larger than the smallest time-scales.\n",
        "\n",
        "The goals of this exercise are:\n",
        "- Gain experience with implicit vs explicit methods and stiff systems\n",
        "\n",
        "Required reading:\n",
        "- *Lesson 9: Euler method*\n"
      ]
    },
    {
      "cell_type": "markdown",
      "metadata": {
        "id": "MzlE-Prrk1_u"
      },
      "source": [
        "## <font color=#46769B>Exercise</font>\n",
        "\n",
        "We consider a __damped pendulum__, governed by the second-order ODE\n",
        "\n",
        "$$\\theta''(t) + \\gamma \\theta'(t) + \\omega^2 \\sin \\theta(t) = 0 \\, , \\qquad (1)$$\n",
        "\n",
        "where $\\omega$ is the angular frequency and $\\theta(t)$ is the displacement angle (with respect to the vertical axis) as a function of time $t$.\n",
        "The term proportional to $\\gamma$ represents a damping force, e.g., the pendulum is submerged in water, and $\\gamma$ is the damping constant. The effect of [damping](https://en.wikipedia.org/wiki/Damping) is that oscillatory motion will decay away and the pendulum will approach its equilibrium configuration. \n",
        "\n",
        "### <font color=#46769B>Part (a)</font>\n",
        "\n",
        "Here we consider a pendulum in the small-angle limit, $|\\theta(t)| \\ll 1$. In this case, we replace Eq. (1) with\n",
        "\n",
        "$$\\theta''(t) + \\gamma \\theta'(t) + \\omega^2 \\theta(t) = 0 \\, ,$$\n",
        "\n",
        "which is simply a damped harmonic oscillator. Take $\\omega = 2\\pi$ and $\\gamma=100$. Since $\\gamma \\gg \\omega$, this is an overdamped system. \n",
        "That is, the pendulum slowly decays to its equilibrium position without oscillations. (In fact, the damping is so large that the system moves very slowly.) \n",
        "\n",
        "Perform the following tasks:\n",
        "- Write a code to perform the *forward* Euler method for solving for $\\theta(t)$ as a function of $t$, for $t$ in the range $[0,20]$, subject to the boundary conditions $\\theta(0) = 0.1$ and $\\theta'(0) = 0$. Choose $N=1000$ steps in $t$.\n",
        "- Write a code to perform the *backward* Euler method for the same problem. Note to solve for $y_{i+1}$ given $y_i$, you will have to invert a $2\\times 2$ matrix as in the Lesson 9 notes.\n",
        "- There is an approximate analytic result\n",
        "$$ \\theta_{\\rm approx}(t) = \\theta_0 e^{-\\omega^2 t/\\gamma} $$\n",
        "that is valid in the limit $\\gamma \\gg \\omega$.\n",
        "- Make a plot showing your results for $\\theta(t)$ for the forward and backward Euler methods, as well as this approximate analytic solution, $\\theta_{\\rm approx}(t)$. Use `plt.yscale('log')` to make a log scale on the vertical axis.\n"
      ]
    },
    {
      "cell_type": "code",
      "execution_count": 28,
      "metadata": {
        "colab": {
          "base_uri": "https://localhost:8080/",
          "height": 279
        },
        "id": "_y2rdNAOk1_v",
        "outputId": "e0545b63-3ad6-450b-bcc8-a2f366eb57d1"
      },
      "outputs": [
        {
          "output_type": "display_data",
          "data": {
            "image/png": "[encoded data removed]",
            "text/plain": [
              "<Figure size 432x288 with 1 Axes>"
            ]
          },
          "metadata": {
            "needs_background": "light"
          }
        }
      ],
      "source": [
        "import numpy as np\n",
        "import matplotlib.pyplot as plt\n",
        "\n",
        "omega = 2*np.pi\n",
        "theta0 = 0.1\n",
        "theta_prime0 = 0 \n",
        "gamma = 100\n",
        "\n",
        "def f(t,y):\n",
        "    y1, y2 = y\n",
        "    return np.array([y2,-omega**2*y1 - gamma*y2])\n",
        "# Forward Method\n",
        "# Boundary conditions\n",
        "y0 = np.array([0.1,0])\n",
        "\n",
        "# Define steps\n",
        "num_steps = 1000\n",
        "t0, tf = 0, 20\n",
        "t = np.linspace(t0,tf,num=num_steps+1)\n",
        "h = t[1] - t[0]\n",
        "\n",
        "# Initialize where results will be saved\n",
        "y = np.zeros((num_steps+1,2))\n",
        "y[0] = y0\n",
        "\n",
        "# Iterate\n",
        "for i in range(num_steps):\n",
        "\n",
        "    ti = t[i]\n",
        "    yi = y[i]\n",
        "    y[i+1] = yi + h*f(ti,yi)\n",
        "    \n",
        "# Show the results\n",
        "\n",
        "plt.plot(t,y[:,0],label='Euler method')\n",
        "\n",
        "# Exact result\n",
        "plt.plot(t,theta0*np.e**(-((omega**2)*t)/(gamma)),'--',label='exact solution')\n",
        "\n",
        "plt.xlabel('t')\n",
        "plt.ylabel('y')\n",
        "plt.yscale('log')\n",
        "plt.legend()\n",
        "plt.show()\n"
      ]
    },
    {
      "cell_type": "code",
      "source": [
        "# Backward Method \n",
        "# Define omega\n",
        "omega = 2*np.pi\n",
        "theta0 = 0.1\n",
        "theta_prime0 = 0 \n",
        "gamma = 100\n",
        "\n",
        "# Boundary conditions\n",
        "y0b = np.array([0.1,0])\n",
        "\n",
        "# Define steps\n",
        "num_stepsb = 1000\n",
        "t0b, tfb = 0, 20\n",
        "tb = np.linspace(t0,tf,num=num_steps)\n",
        "hb = tb[1] - tb[0]\n",
        "\n",
        "# Initialize where results will be saved\n",
        "yb = np.zeros((num_stepsb,2))\n",
        "yb[0] = y0\n",
        "\n",
        "# Define matrix A\n",
        "A = np.array([[1+h*gamma,h],[-omega**2*h,1]])/(1+h*gamma + h**2*omega**2)\n",
        "\n",
        "# Iterate\n",
        "for i in range(num_stepsb-1):\n",
        "\n",
        "    tbi = tb[i]\n",
        "    ybi = yb[i]\n",
        "    yb[i+1] = A @ ybi # Note the matrix multiplication\n",
        "    \n",
        "# Show the results\n",
        "plt.plot(tb,yb[:,0],label='Euler method')\n",
        "\n",
        "# Exact result\n",
        "plt.plot(tb,theta0*np.e**(-((omega**2)*tb)/(gamma)),'--',label='exact solution')\n",
        "\n",
        "plt.xlabel('t')\n",
        "plt.ylabel('y')\n",
        "plt.yscale(\"log\")\n",
        "plt.legend()"
      ],
      "metadata": {
        "colab": {
          "base_uri": "https://localhost:8080/",
          "height": 297
        },
        "id": "F8GFMt4e-8Gz",
        "outputId": "23c8592d-a81b-4e30-ed32-c2a2acae1218"
      },
      "execution_count": 34,
      "outputs": [
        {
          "output_type": "execute_result",
          "data": {
            "text/plain": [
              "<matplotlib.legend.Legend at 0x7f986daf1d50>"
            ]
          },
          "metadata": {},
          "execution_count": 34
        },
        {
          "output_type": "display_data",
          "data": {
            "image/png": "[encoded data removed]",
            "text/plain": [
              "<Figure size 432x288 with 1 Axes>"
            ]
          },
          "metadata": {
            "needs_background": "light"
          }
        }
      ]
    },
    {
      "cell_type": "markdown",
      "metadata": {
        "id": "tWS8fJd-k1_w"
      },
      "source": [
        "### <font color=#46769B>Part (b)</font>\n",
        "\n",
        "The setup in Part (a) is a stiff system. The smallest intrinsic time scale in the problem is $\\gamma^{-1} = 0.01$. However, as the analytic approximation makes clear, the pendulum is evolving on a time scale $(\\omega^2/\\gamma)^{-1} \\approx 2.5$. Taking $N=1000$ steps in part (a) corresponded to $h=0.02$, which you should have found gave reasonable solutions for both forward and backward methods.\n",
        "\n",
        "Following upon Part (a), perform the following tasks:\n",
        "- Make plots showing results for $\\theta(t)$ the *forward Euler method* for $N=10$, $N=100$, and $N=900$ steps. (You may wish to plot each separately.)\n",
        "- Make a plot showing with the corresponding results for the *backward Euler method*. (Plot them all together. Use a log scale for the $y$ axis.)\n",
        "\n"
      ]
    },
    {
      "cell_type": "code",
      "execution_count": 38,
      "metadata": {
        "colab": {
          "base_uri": "https://localhost:8080/",
          "height": 282
        },
        "id": "8rOa2Aadk1_x",
        "outputId": "0cfbaf64-0d08-4af9-8170-f3990bce151b"
      },
      "outputs": [
        {
          "output_type": "display_data",
          "data": {
            "image/png": "[encoded data removed]",
            "text/plain": [
              "<Figure size 432x288 with 1 Axes>"
            ]
          },
          "metadata": {
            "needs_background": "light"
          }
        }
      ],
      "source": [
        "# Forward Method \n",
        "# 10 Steps \n",
        "\n",
        "import numpy as np\n",
        "import matplotlib.pyplot as plt\n",
        "\n",
        "omega = 2*np.pi\n",
        "theta0 = 0.1\n",
        "theta_prime0 = 0 \n",
        "gamma = 100\n",
        "\n",
        "def f(t,y):\n",
        "    y1, y2 = y\n",
        "    return np.array([y2,-omega**2*y1 - gamma*y2])\n",
        "# Forward Method\n",
        "# Boundary conditions\n",
        "y0 = np.array([0.1,0])\n",
        "\n",
        "# Define steps\n",
        "num_steps = 10\n",
        "t0, tf = 0, 20\n",
        "t = np.linspace(t0,tf,num=num_steps+1)\n",
        "h = t[1] - t[0]\n",
        "\n",
        "# Initialize where results will be saved\n",
        "y = np.zeros((num_steps+1,2))\n",
        "y[0] = y0\n",
        "\n",
        "# Iterate\n",
        "for i in range(num_steps):\n",
        "\n",
        "    ti = t[i]\n",
        "    yi = y[i]\n",
        "    y[i+1] = yi + h*f(ti,yi)\n",
        "\n",
        "# Backwards Method\n",
        "# Boundary conditions\n",
        "y0b = np.array([0.1,0])\n",
        "\n",
        "# Define steps\n",
        "num_stepsb = 10\n",
        "t0b, tfb = 0, 20\n",
        "tb = np.linspace(t0,tf,num=num_stepsb)\n",
        "hb = tb[1] - tb[0]\n",
        "\n",
        "# Initialize where results will be saved\n",
        "yb = np.zeros((num_stepsb,2))\n",
        "yb[0] = y0\n",
        "\n",
        "# Define matrix A\n",
        "A = np.array([[1+h*gamma,h],[-omega**2*h,1]])/(1+h*gamma + h**2*omega**2)\n",
        "\n",
        "# Iterate\n",
        "for i in range(num_stepsb-1):\n",
        "\n",
        "    tbi = tb[i]\n",
        "    ybi = yb[i]\n",
        "    yb[i+1] = A @ ybi # Note the matrix multiplication\n",
        "\n",
        "# Show the results\n",
        "\n",
        "plt.plot(t,y[:,0],label='Foward Method')\n",
        "plt.plot(tb,yb[:,0],label='Backwards method')\n",
        "# Exact result\n",
        "plt.plot(t,theta0*np.e**(-((omega**2)*t)/(gamma)),'--',label='exact solution')\n",
        "\n",
        "plt.xlabel('t')\n",
        "plt.ylabel('y')\n",
        "plt.yscale('log')\n",
        "plt.legend()\n",
        "plt.show()\n"
      ]
    },
    {
      "cell_type": "code",
      "source": [
        "# Forward Method \n",
        "# 100 Steps \n",
        "\n",
        "import numpy as np\n",
        "import matplotlib.pyplot as plt\n",
        "\n",
        "omega = 2*np.pi\n",
        "theta0 = 0.1\n",
        "theta_prime0 = 0 \n",
        "gamma = 100\n",
        "\n",
        "def f(t,y):\n",
        "    y1, y2 = y\n",
        "    return np.array([y2,-omega**2*y1 - gamma*y2])\n",
        "# Forward Method\n",
        "# Boundary conditions\n",
        "y0 = np.array([0.1,0])\n",
        "\n",
        "# Define steps\n",
        "num_steps = 100\n",
        "t0, tf = 0, 20\n",
        "t = np.linspace(t0,tf,num=num_steps+1)\n",
        "h = t[1] - t[0]\n",
        "\n",
        "# Initialize where results will be saved\n",
        "y = np.zeros((num_steps+1,2))\n",
        "y[0] = y0\n",
        "\n",
        "# Iterate\n",
        "for i in range(num_steps):\n",
        "\n",
        "    ti = t[i]\n",
        "    yi = y[i]\n",
        "    y[i+1] = yi + h*f(ti,yi)\n",
        "\n",
        "# Backwards Method\n",
        "# Boundary conditions\n",
        "y0b = np.array([0.1,0])\n",
        "\n",
        "# Define steps\n",
        "num_stepsb = 100\n",
        "t0b, tfb = 0, 20\n",
        "tb = np.linspace(t0,tf,num=num_stepsb)\n",
        "hb = tb[1] - tb[0]\n",
        "\n",
        "# Initialize where results will be saved\n",
        "yb = np.zeros((num_stepsb,2))\n",
        "yb[0] = y0\n",
        "\n",
        "# Define matrix A\n",
        "A = np.array([[1+h*gamma,h],[-omega**2*h,1]])/(1+h*gamma + h**2*omega**2)\n",
        "\n",
        "# Iterate\n",
        "for i in range(num_stepsb-1):\n",
        "\n",
        "    tbi = tb[i]\n",
        "    ybi = yb[i]\n",
        "    yb[i+1] = A @ ybi # Note the matrix multiplication\n",
        "\n",
        "# Show the results\n",
        "\n",
        "plt.plot(t,y[:,0],label='Foward Method')\n",
        "plt.plot(tb,yb[:,0],label='Backwards method')\n",
        "# Exact result\n",
        "plt.plot(t,theta0*np.e**(-((omega**2)*t)/(gamma)),'--',label='exact solution')\n",
        "\n",
        "plt.xlabel('t')\n",
        "plt.ylabel('y')\n",
        "plt.yscale('log')\n",
        "plt.legend()\n",
        "plt.show()\n"
      ],
      "metadata": {
        "colab": {
          "base_uri": "https://localhost:8080/",
          "height": 279
        },
        "id": "Kk06u8YgEmCk",
        "outputId": "cf93d882-ffb9-4f77-b2aa-ed2d51b1bd5a"
      },
      "execution_count": 39,
      "outputs": [
        {
          "output_type": "display_data",
          "data": {
            "image/png": "[encoded data removed]",
            "text/plain": [
              "<Figure size 432x288 with 1 Axes>"
            ]
          },
          "metadata": {
            "needs_background": "light"
          }
        }
      ]
    },
    {
      "cell_type": "code",
      "source": [
        "# 900 steps\n",
        "# Forward Method \n",
        "\n",
        "import numpy as np\n",
        "import matplotlib.pyplot as plt\n",
        "\n",
        "omega = 2*np.pi\n",
        "theta0 = 0.1\n",
        "theta_prime0 = 0 \n",
        "gamma = 100\n",
        "\n",
        "def f(t,y):\n",
        "    y1, y2 = y\n",
        "    return np.array([y2,-omega**2*y1 - gamma*y2])\n",
        "# Forward Method\n",
        "# Boundary conditions\n",
        "y0 = np.array([0.1,0])\n",
        "\n",
        "# Define steps\n",
        "num_steps = 900\n",
        "t0, tf = 0, 20\n",
        "t = np.linspace(t0,tf,num=num_steps+1)\n",
        "h = t[1] - t[0]\n",
        "\n",
        "# Initialize where results will be saved\n",
        "y = np.zeros((num_steps+1,2))\n",
        "y[0] = y0\n",
        "\n",
        "# Iterate\n",
        "for i in range(num_steps):\n",
        "\n",
        "    ti = t[i]\n",
        "    yi = y[i]\n",
        "    y[i+1] = yi + h*f(ti,yi)\n",
        "\n",
        "# Backwards Method\n",
        "# Boundary conditions\n",
        "y0b = np.array([0.1,0])\n",
        "\n",
        "# Define steps\n",
        "num_stepsb = 900\n",
        "t0b, tfb = 0, 20\n",
        "tb = np.linspace(t0,tf,num=num_stepsb)\n",
        "hb = tb[1] - tb[0]\n",
        "\n",
        "# Initialize where results will be saved\n",
        "yb = np.zeros((num_stepsb,2))\n",
        "yb[0] = y0\n",
        "\n",
        "# Define matrix A\n",
        "A = np.array([[1+h*gamma,h],[-omega**2*h,1]])/(1+h*gamma + h**2*omega**2)\n",
        "\n",
        "# Iterate\n",
        "for i in range(num_stepsb-1):\n",
        "\n",
        "    tbi = tb[i]\n",
        "    ybi = yb[i]\n",
        "    yb[i+1] = A @ ybi # Note the matrix multiplication\n",
        "\n",
        "# Show the results\n",
        "\n",
        "plt.plot(t,y[:,0],label='Foward Method')\n",
        "plt.plot(tb,yb[:,0],label='Backwards method')\n",
        "# Exact result\n",
        "plt.plot(t,theta0*np.e**(-((omega**2)*t)/(gamma)),'--',label='exact solution')\n",
        "\n",
        "plt.xlabel('t')\n",
        "plt.ylabel('y')\n",
        "plt.yscale('log')\n",
        "plt.legend()\n",
        "plt.show()"
      ],
      "metadata": {
        "colab": {
          "base_uri": "https://localhost:8080/",
          "height": 279
        },
        "id": "4iRQmgdbE6Hb",
        "outputId": "0c052928-79db-497b-9c26-09b45ed66dfb"
      },
      "execution_count": 40,
      "outputs": [
        {
          "output_type": "display_data",
          "data": {
            "image/png": "[encoded data removed]",
            "text/plain": [
              "<Figure size 432x288 with 1 Axes>"
            ]
          },
          "metadata": {
            "needs_background": "light"
          }
        }
      ]
    },
    {
      "cell_type": "markdown",
      "metadata": {
        "id": "-Aaeler9k1_x"
      },
      "source": [
        "## <font color=#46769B>Back to the general pendulum</font>\n",
        "\n",
        "Let's return to Eq. (1) to consider the general equation for a damped pendulum.\n",
        "\n",
        "$$\\theta''(t) + \\gamma \\theta'(t) + \\omega^2 \\sin\\theta(t) = 0 \\, .$$\n",
        "\n",
        "Here we will consider the backward Euler method for this ODE. The situation is more complicated because the system of algebraic equations we need to solve at each step cannot be done analytically. Therefore, at each step, we have to solve a system of equations numerically to figure out $y_{i+1}$ from $y_i$. This is the more realistic situation one encounters for implicit methods, so it is worthwhile to see how this works.\n",
        "\n",
        "Eq. (1), written as a system of first-order ODEs, is\n",
        "\n",
        "$$\\mathbf{y}'(t) = \\left( \\begin{array}{c} y'_1(t) \\\\ y'_2(t) \\end{array} \\right) = \\mathbf{f}(t,\\mathbf y) = \\left( \\begin{array}{c} y_2(t) \\\\ -\\omega^2 y_1(t) - \\gamma y_2(t) \\end{array} \\right) \\, .$$\n",
        "\n",
        "So, the system of equations we need to solve is\n",
        "\n",
        "$$\\mathbf{y}_{i+1} = \\mathbf{y}_{i} + h \\mathbf{f}(t,\\mathbf y_{i+1})$$\n",
        "\n",
        "We are now going to learn how to use a built-in function `scipy.optimize.fsolve` to solve this equation numerically. (Documentation is [here](https://docs.scipy.org/doc/scipy/reference/generated/scipy.optimize.fsolve.html).)\n",
        "The first step is to define a function\n",
        "\n",
        "$$ \\mathbf{F}(\\mathbf y_{i+1}) = \\mathbf{y}_{i+1} - \\mathbf{y}_{i} - h \\mathbf{f}(t,\\mathbf y_{i+1}) \\, .$$\n",
        "\n",
        "That is, we want to find where $\\mathbf{F}(\\mathbf y_{i+1}) = 0$. \n",
        "\n",
        "Next, we use the syntax `fsolve(F,yi)`:\n",
        "- The first argument `F` is the function we want to solve for where it is zero.\n",
        "- The second argument `yi` is the initial guess for where it is zero. We will take the *previous* value $\\mathbf{y}_i$ as our guess.\n",
        "- `fsolve(F,yi)` will return the solution, which is $\\mathbf{y}_{i+1}$.\n",
        "\n",
        "So, let's see what all this would look like in your code. First, you need to import `fsolve` at the top of your code:\n",
        "```py\n",
        "from scipy.optimize import fsolve\n",
        "```\n",
        "\n",
        "Next, here is the code for iterating through your steps and updating $\\mathbf{y}_{i+1}$ from $\\mathbf{y}_i$:\n",
        "```py\n",
        "\n",
        "for i in range(num_steps):\n",
        "\n",
        "    yi = y[i]\n",
        "    ti = t[i]\n",
        "    \n",
        "    def F(y_new):\n",
        "        return y_new - yi - f(t,y_new)\n",
        "    \n",
        "    y[i+1] = fsolve(F,yi)    \n",
        "    \n",
        "```\n",
        "\n",
        "### <font color=#46769B>Part (c)</font>\n",
        "\n",
        "Using the backward Euler method, solve for $\\theta(t)$ for the damped pendulum, given the boundary condition $\\theta(0) = 3$ and $\\theta'(0) = 0$, over the time interval $[0,20]$, with $N=1000$ steps. Take $\\omega = 2\\pi$ and $\\gamma=100$ as in Part (a). Make a plot, with a log scale in the $y$ axis, showing:\n",
        "- Your result for $\\theta(t)$. \n",
        "- $\\theta(t)$ from using `scipy.integrate.solve_ivp`."
      ]
    },
    {
      "cell_type": "code",
      "execution_count": 74,
      "metadata": {
        "colab": {
          "base_uri": "https://localhost:8080/",
          "height": 297
        },
        "id": "NuIjtvmuk1_y",
        "outputId": "2386ec90-eda4-4092-a46d-84ffd12effc4"
      },
      "outputs": [
        {
          "output_type": "execute_result",
          "data": {
            "text/plain": [
              "<matplotlib.legend.Legend at 0x7f985916f8d0>"
            ]
          },
          "metadata": {},
          "execution_count": 74
        },
        {
          "output_type": "display_data",
          "data": {
            "image/png": "[encoded data removed]",
            "text/plain": [
              "<Figure size 432x288 with 1 Axes>"
            ]
          },
          "metadata": {
            "needs_background": "light"
          }
        }
      ],
      "source": [
        "from scipy.integrate import solve_ivp\n",
        "from scipy.optimize import fsolve\n",
        "omega = 2*np.pi\n",
        "gamma = 100\n",
        "theta_0 = 3 \n",
        "theta_prime_0 = 0\n",
        "# Boundary conditions\n",
        "yb0 = np.array([0.1,0])\n",
        "\n",
        "# Define steps\n",
        "num_stepsb = 1000\n",
        "tb0 = 0 \n",
        "tbf = 20\n",
        "tb = np.linspace(tb0,tbf, num=num_stepsb)\n",
        "hb = tb[1] - tb[0]\n",
        "\n",
        "for i in range(num_stepsb - 1):\n",
        "  ybi = yb[i]\n",
        "  tbi = tb[i]\n",
        "  def F(y_new):\n",
        "    return y_new - ybi -  hb*f(tb[i],y_new)\n",
        "  yb[i+1] = fsolve(F,ybi) \n",
        "\n",
        "# Initialize where results will be saved\n",
        "yb= np.zeros((num_stepsb,2))\n",
        "yb[0] = yb0\n",
        "\n",
        "# Define matrix A\n",
        "A = np.array([[1+hb*gamma,hb],[-omega**2*hb,1]])/(1+hb*gamma + hb**2*omega**2)\n",
        "\n",
        "# Iterate\n",
        "for i in range(num_stepsb -1):\n",
        "\n",
        "    tbi = tb[i]\n",
        "    ybi = yb[i]\n",
        "    yb[i+1] = A @ ybi # Note the matrix multiplication\n",
        "    \n",
        "# Show the results\n",
        "plt.plot(tb,yb[:,0],label='Euler method')\n",
        "\n",
        "# Exact result\n",
        "sol = solve_ivp(f, [tb0,tbf], yb0, t_eval=tb)\n",
        "y = sol.y[0]\n",
        "plt.plot(tb,y,label='solve_ivp')\n",
        "plt.xlabel('t')\n",
        "plt.ylabel('y')\n",
        "plt.yscale(\"log\")\n",
        "plt.legend()\n"
      ]
    },
    {
      "cell_type": "code",
      "execution_count": null,
      "metadata": {
        "id": "6pam_6MRk1_y"
      },
      "outputs": [],
      "source": [
        ""
      ]
    }
  ],
  "metadata": {
    "kernelspec": {
      "display_name": "Python 3",
      "language": "python",
      "name": "python3"
    },
    "language_info": {
      "codemirror_mode": {
        "name": "ipython",
        "version": 3
      },
      "file_extension": ".py",
      "mimetype": "text/x-python",
      "name": "python",
      "nbconvert_exporter": "python",
      "pygments_lexer": "ipython3",
      "version": "3.7.6"
    },
    "colab": {
      "name": "Exercise 19 - Damped pendulum.ipynb",
      "provenance": [],
      "include_colab_link": true
    }
  },
  "nbformat": 4,
  "nbformat_minor": 0
}