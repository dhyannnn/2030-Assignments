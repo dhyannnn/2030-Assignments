{
 "cells": [
  {
   "cell_type": "markdown",
   "id": "153ce12a",
   "metadata": {},
   "source": [
    "__Dhyan Thakkar__\n",
    "<br>\n",
    "Date: Jan. 14, 2021\n",
    "<br>\n",
    "PHYS 2030 W22"
   ]
  },
  {
   "cell_type": "markdown",
   "id": "ed38cae3",
   "metadata": {},
   "source": [
    "## <center><font color=#46769B>Exercise 2: Central Limit Theorem</font></center>\n",
    "\n",
    "## <font color=#46769B>Introduction:</font>\n",
    "\n",
    "Our goals for this notebook are:\n",
    "- Verify that the central limit theorem holds for flipping a coin\n",
    "\n",
    "Required reading:\n",
    "- *Lesson 2: Monte Carlo sampling*"
   ]
  },
  {
   "cell_type": "markdown",
   "id": "2681f25c",
   "metadata": {},
   "source": [
    "## <font color=#46769B>A remarkable fact about the Central Limit Theorem (CLT):</font>\n",
    "\n",
    "Suppose we have samples of $x$ that come from a probability distribution $P(x)$:\n",
    "$$\\left(x_0, \\, x_1, \\, x_2, \\, ..., \\, x_{N-1}\\right)$$\n",
    "The CLT tells us that if we perform many such simulations, the mean values $\\langle x \\rangle$ we obtain will follow a normal distribution around the true mean $\\mu$ of $P(x)$.\n",
    "\n",
    "Notice we didn't require that $P(x)$ *itself* was a normal distribution. In fact, $P(x)$ can be *any* discrete or continuous distribution. Nevertheless, the mean values of the samples will follow a *normal distribution*.\n",
    "\n",
    "Here we will consider the CLT in the context of flipping a coin, where $P(x)$ is certainly not a normal distribution."
   ]
  },
  {
   "cell_type": "markdown",
   "id": "1149c177",
   "metadata": {},
   "source": [
    "## <font color=#46769B>Part 1: Flipping a coin</font>\n",
    "\n",
    "The goal of this exercise is to verify that the CLT holds for flipping a coin. The setup is:\n",
    "- We flip a coin $N$ times, each time yielding either heads ($x=1$) with probability $p$, or tails ($x=0$) with probability $1-p$. \n",
    "- We will not assume a fair coin, setting $p=0.6$.\n",
    "\n",
    "Similar to Lecture 2, write a code `coin_flip_simulation(num)` that will return the mean value $\\langle x \\rangle$ after `num` coin flips."
   ]
  },
  {
   "cell_type": "code",
   "execution_count": 1,
   "id": "a81a384e",
   "metadata": {},
   "outputs": [
    {
     "name": "stdout",
     "output_type": "stream",
     "text": [
      "0.63\n"
     ]
    }
   ],
   "source": [
    "import numpy as np\n",
    "import matplotlib.pyplot as plt\n",
    "\n",
    "def coin_flip_simulation(num):\n",
    "  \n",
    "  options = [1,0]\n",
    "  p = 0.6\n",
    "  prob = [p,1-p]\n",
    "    \n",
    "    # random.choice(options,num) will return a list of length num, randomly chosen from options\n",
    "  x_samples = np.random.choice(options,num,p=prob)\n",
    "    \n",
    "    # Calculate <x>\n",
    "  mean = np.mean(x_samples)\n",
    "    \n",
    "  return mean\n",
    "#Assuming num = 100\n",
    "num = 100\n",
    "\n",
    "mu = coin_flip_simulation(num)\n",
    "\n",
    "print(mu)\n"
   ]
  },
  {
   "cell_type": "markdown",
   "id": "ded48687",
   "metadata": {},
   "source": [
    "## <font color=#46769B>Part 2: Central Limit Theorem</font>\n",
    "\n",
    "Perform 1000 simulations, each with `num=100`, and save your results as `list_of_means`, a list of values of $\\langle x \\rangle$ for each simulation. \n",
    "- Calculate the mean and standard deviation of `list_of_means`. Check that it agrees with the CLT.\n",
    "- Make a histogram `list_of_means` and compare it to a normal distribution predicted by the CLT."
   ]
  },
  {
   "cell_type": "code",
   "execution_count": 2,
   "id": "804a4aea",
   "metadata": {},
   "outputs": [
    {
     "name": "stdout",
     "output_type": "stream",
     "text": [
      "Mean calculated from 1000 simulations:  0.5997899999999999\n",
      "Standard deviation of the means from the true mean:  0.04860098661549989\n",
      "CLT predicts that most of the means calculated in the list_of_means list should be within one standard deviation\n",
      "The true mean is:  0.6\n",
      "For a 1000 simulations the mean calculated should be withing +-  0.018973665961010275\n",
      "we can see that this is true\n"
     ]
    },
    {
     "data": {
      "image/png": "[encoded data removed]",
      "text/plain": [
       "<Figure size 432x288 with 1 Axes>"
      ]
     },
     "metadata": {
      "needs_background": "light"
     },
     "output_type": "display_data"
    }
   ],
   "source": [
    "import numpy as np\n",
    "import matplotlib.pyplot as plt\n",
    "\n",
    "def coin_flip_simulation(num):\n",
    "  heads = 1\n",
    "  tails = 0\n",
    "  options = [heads,tails,heads,heads,heads,heads,heads,tails,tails,tails]\n",
    "    \n",
    "    # random.choice(options,num) will return a list of length num, randomly chosen from options\n",
    "  x_samples = np.random.choice(options,num)\n",
    "    \n",
    "    # Calculate <x>\n",
    "  mean = np.mean(x_samples)\n",
    "    \n",
    "  return mean\n",
    "\n",
    "num = 100\n",
    "list_of_means = []\n",
    "for i in range(1000):\n",
    "    list_of_means.append(coin_flip_simulation(num))\n",
    "\n",
    "mean2 = np.mean(list_of_means)\n",
    "print(\"Mean calculated from 1000 simulations: \", mean2)\n",
    "std2 = np.std(list_of_means)\n",
    "print(\"Standard deviation of the means from the true mean: \", std2)\n",
    "print('CLT predicts that most of the means calculated in the list_of_means list should be within one standard deviation')\n",
    "true_mean = 0.6\n",
    "print(\"The true mean is: \", true_mean)\n",
    "width = 0.6/np.sqrt(1000)\n",
    "print(\"For a 1000 simulations the mean calculated should be withing +- \", width)\n",
    "print(\"we can see that this is true\")\n",
    "\n",
    "\n",
    "\n",
    "plt.hist(list_of_means,bins=15,density=True, color = 'purple', label = 'Sampling')\n",
    "x = np.linspace(0.4,0.8, 300)\n",
    "y = 1/np.sqrt(2*np.pi*std2**2) * np.exp(-0.5*(x-mean2)**2/std2**2)\n",
    "plt.plot(x,y,label='normal dist.', color = 'gold')\n",
    "plt.xlabel('Simulation number')\n",
    "plt.ylabel('<x>')\n",
    "plt.ylim([0,10])\n",
    "plt.legend()\n",
    "plt.show()\n"
   ]
  },
  {
   "cell_type": "code",
   "execution_count": null,
   "id": "3b4f4446",
   "metadata": {},
   "outputs": [],
   "source": []
  }
 ],
 "metadata": {
  "kernelspec": {
   "display_name": "Python 3 (ipykernel)",
   "language": "python",
   "name": "python3"
  },
  "language_info": {
   "codemirror_mode": {
    "name": "ipython",
    "version": 3
   },
   "file_extension": ".py",
   "mimetype": "text/x-python",
   "name": "python",
   "nbconvert_exporter": "python",
   "pygments_lexer": "ipython3",
   "version": "3.9.7"
  }
 },
 "nbformat": 4,
 "nbformat_minor": 5
}
