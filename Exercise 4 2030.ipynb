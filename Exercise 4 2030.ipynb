{
 "cells": [
  {
   "cell_type": "markdown",
   "id": "e6f63722",
   "metadata": {},
   "source": [
    "__Dhyan Thakkar__\n",
    "<br>\n",
    "Date: Jan. 19, 2021\n",
    "<br>\n",
    "PHYS 2030 W22"
   ]
  },
  {
   "cell_type": "markdown",
   "id": "2de89029",
   "metadata": {},
   "source": [
    "# <center><font color=#46769B>Exercise 4: Radioactive decay</font></center>\n",
    "\n",
    "## <font color=#46769B>Introduction:</font>\n",
    "\n",
    "Our goals for this notebook are:\n",
    "- Make a simulation for \n",
    "\n",
    "Required reading:\n",
    "- *Lesson 3: Sampling from arbitrary distributions*"
   ]
  },
  {
   "cell_type": "markdown",
   "id": "5a498e73",
   "metadata": {},
   "source": [
    "# <font color=#46769B>Exercise</font>\n",
    "\n",
    "## <font color=#46769B>Part (a)</font>\n",
    "\n",
    "Consider a radioactive isotope $A$, at $t=0$. We want to know the time $t$ for one atom to decay. \n",
    "Since radioactive decay is a random process, there is no way to know in advance $t$ for any one atom. \n",
    "We will treat $t$ as a variable that we will randomly sample from a PDF $P(t)$.\n",
    "\n",
    "The law of radioactive decay tells us that the *probability* of $A$ surviving until time $t$ is $e^{-t/\\tau_A}$, where $\\tau_A$ is the lifetime for its decay.\n",
    "Conversely, the probability for $A$ to decay *before* time $t$ is $(1-e^{-t/\\tau_A})$. The latter is nothing more than the CDF:\n",
    "$$ C(t) = \\left\\{ \\begin{array}{cc} 1 - e^{-t/\\tau_A} & {\\rm for} \\; t \\ge 0 \\\\\n",
    "0 & {\\rm otherwise} \\end{array} \\right.$$\n",
    "Since $P(t) = dC/dt$, we now have the PDF:\n",
    "$$ P(t) = \\left\\{ \\begin{array}{cc} \\frac{1}{\\tau_A} e^{-t/\\tau_A} & {\\rm for} \\; t \\ge 0 \\\\\n",
    "0 & {\\rm otherwise} \\end{array} \\right. \\, ,$$\n",
    "which you can verify has the correct normalization.\n",
    "\n",
    "Setting $\\tau_A = 10$ (e.g., 10 hours), complete the following:\n",
    "- Write a code `sample_t_A(num)` that will draw `num` random samples for $t$ from $P(t)$ defined above and return a `numpy.array` of length `num` with your list of times $t$.\n",
    "- Determine the half-life $t_{1/2}$ from the 50\\% quantile from your sample.\n",
    "- Determine the time it takes for 99.9\\% of $A$ to decay away by determining the 99.9\\% quantile for your sample.\n",
    "\n",
    "For the last two parts, be sure that $N$ is large enough so that you find consistent results when you perform multiple simulations."
   ]
  },
  {
   "cell_type": "code",
   "execution_count": 6,
   "id": "549e89a1",
   "metadata": {},
   "outputs": [
    {
     "name": "stdout",
     "output_type": "stream",
     "text": [
      "t_50 = 6.881354164751353\n",
      "t_99.9 = 66.78446507255836\n"
     ]
    }
   ],
   "source": [
    "import numpy as np\n",
    "\n",
    "tau_A = 10\n",
    "\n",
    "def sample_t_A(num):\n",
    "    r = np.random.rand(num)\n",
    "    t_samples = -tau_A*np.log(1-r)\n",
    "    return t_samples\n",
    "\n",
    "num = 100000\n",
    "#Estimating Quantiles\n",
    "print('t_50 =', np.quantile(sample_t_A(num), 0.5))\n",
    "print('t_99.9 =', np.quantile(sample_t_A(num), 0.999))"
   ]
  },
  {
   "cell_type": "markdown",
   "id": "51142c87",
   "metadata": {},
   "source": [
    "## <font color=#46769B>Part (b)</font>\n",
    "\n",
    "Consider a more complicated chain of decays:\n",
    "\n",
    "<div>\n",
    "<img src=\"https://github.com/PHYS-2030-Computational-Methods/Lecture-notes/raw/main/ABC_decay.png\" width=\"200\"/>\n",
    "</div>\n",
    "\n",
    "Isotope $A$, with lifetime $\\tau_A = 10$, decays into isotope $B$ 83\\% of the time and into isotope $C$ 17\\% of the time.\n",
    "Isotopes $B$ and $C$ are themselves radioactive, decaying with lifetimes $\\tau_B = 2$ and $\\tau_C=30$, respectively, into stable isotopes.\n",
    "\n",
    "Starting with isotope $A$ at $t=0$, generate $N$ random samples for the *total* time to decay to a stable isotope. Using `numpy.quantile`, determine the following:\n",
    "- Determine the total half-life $t_{1/2}$ for all radioactive isotopes to decay away.\n",
    "- Determine the time it takes for 99.9\\% of all radioactive isotopes to decay away.\n",
    "\n",
    "Choose $N$ large enough so that your results are consistent for multiple simulations.\n",
    "\n",
    "### <font color=#46769B>Hint:</font>\n",
    "\n",
    "The total time is\n",
    "$$ t_{\\rm tot} = \\left\\{ \\begin{array}{cc} t_A + t_B & {\\rm 83\\% \\; of\\; the\\; time} \\\\ \n",
    "t_A + t_C & {\\rm 17\\% \\; of\\; the\\; time} \\end{array} \\right. \\, ,$$\n",
    "where $t_A$ is the time for $A$ to decay from part (a), and $t_B$ and $t_C$ are the times for $B$ and $C$ to decay.\n",
    "So, the logic is as follows:\n",
    "- Randomly sample $t_A$ as in part (a).\n",
    "- Randomly sample from a discrete choice: does $A \\to B$ or $B \\to C$?\n",
    "- Randomly sample *either* $t_B$ or $t_C$ (depending on which decay occurs), as in part (a) but using the appropriate lifetime $\\tau_B$ or $\\tau_C$.\n",
    "- Compute $t_{\\rm tot} = t_A + t_B$ or $t_A + t_C$ (depending on which decay occurs).\n",
    "\n",
    "That is __one__ sample. Repeat $N$ times do generate $N$ samples.\n",
    "\n"
   ]
  },
  {
   "cell_type": "code",
   "execution_count": 5,
   "id": "0b539e48",
   "metadata": {},
   "outputs": [
    {
     "name": "stdout",
     "output_type": "stream",
     "text": [
      "t_50 = 10.78184261942725\n",
      "t_99.9 = 163.98881410381753\n"
     ]
    }
   ],
   "source": [
    "import numpy as np\n",
    "#defining known variables\n",
    "tauA = 10\n",
    "tauB = 2\n",
    "tauC = 30\n",
    "\n",
    "def sample_t(num):\n",
    "  #Random sampling A\n",
    "  r = np.random.rand(num)\n",
    "  tA = -tauA*np.log(1-r)\n",
    "  #Define B = 1, and C = 0\n",
    "  r1 = np.random.rand(num)\n",
    "  tB = -tauB*np.log(1-r1)\n",
    "  tC = -tauC*np.log(1-r1) \n",
    "\n",
    "  #Random Sampling tB and tC\n",
    "  options = [tB,tC]\n",
    "  prob = [0.83,0.17]\n",
    "  \n",
    "  samples = []\n",
    "  for k in range(num):\n",
    "      if r1[k] < prob[0]:\n",
    "        samples.append(options[0])\n",
    "      elif r1[k] < prob[0] + prob[1]:\n",
    "        samples.append(options[1])\n",
    "  t_total = np.add(tA,samples)\n",
    "  return t_total\n",
    "\n",
    "num = 10000\n",
    "print('t_50 =', np.quantile(sample_t(num), 0.5))\n",
    "print('t_99.9 =', np.quantile(sample_t(num), 0.999))"
   ]
  },
  {
   "cell_type": "code",
   "execution_count": null,
   "id": "a974ca3b",
   "metadata": {},
   "outputs": [],
   "source": []
  }
 ],
 "metadata": {
  "kernelspec": {
   "display_name": "Python 3 (ipykernel)",
   "language": "python",
   "name": "python3"
  },
  "language_info": {
   "codemirror_mode": {
    "name": "ipython",
    "version": 3
   },
   "file_extension": ".py",
   "mimetype": "text/x-python",
   "name": "python",
   "nbconvert_exporter": "python",
   "pygments_lexer": "ipython3",
   "version": "3.9.7"
  }
 },
 "nbformat": 4,
 "nbformat_minor": 5
}
