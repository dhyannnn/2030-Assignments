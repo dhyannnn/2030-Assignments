{
 "cells": [
  {
   "cell_type": "markdown",
   "id": "b4cbb178",
   "metadata": {},
   "source": [
    "__Dhyan Thakkar__\n",
    "<br>\n",
    "Date: Jan. 21, 2021\n",
    "<br>\n",
    "PHYS 2030 W"
   ]
  },
  {
   "cell_type": "markdown",
   "id": "8340574f",
   "metadata": {},
   "source": [
    "# <center><font color=#46769B>Exercise 5: Cosmic rays</font></center>\n",
    "\n",
    "## <font color=#46769B>Introduction:</font>\n",
    "\n",
    "Our goals for this notebook are:\n",
    "- Make a simulation for the angle of cosmic rays when hitting the Earth.\n",
    "\n",
    "Required reading:\n",
    "- *Lesson 3: Sampling from arbitrary distributions*"
   ]
  },
  {
   "cell_type": "markdown",
   "id": "251a922b",
   "metadata": {},
   "source": [
    "## <font color=#46769B>Cosmic rays:</font>\n",
    "\n",
    "Cosmic rays are high-energy protons and heavier elements accelerated in stars and other astronomical environments that ultimately smash into Earth's atmosphere. These collisions produce showers of particles.\n",
    "\n",
    "<div>\n",
    "<img src=\"https://cdn.mos.cms.futurecdn.net/JZG8KC9eZovtTaXkvbbdiX-1024-80.jpg.webp\" width=\"400\">\n",
    "</div>\n",
    "\n",
    "Figure credit: [space.com](https://www.space.com/32644-cosmic-rays.html)\n",
    "\n",
    "## <font color=#46769B>Goal:</font>\n",
    "\n",
    "Suppose cosmic rays are isotropic and homogenous in our local galactic neighborhood. They are likely to hit the Earth from any direction and at any position. When a cosmic ray hits the Earth, it will have an angle $\\theta$ with respect to the atmosphere, shown in the Figure here.\n",
    "\n",
    "<div>\n",
    "<img src=\"https://github.com/PHYS-2030-Computational-Methods/Lecture-notes/raw/main/figures/cosmic_rays.png\" width=\"500\">\n",
    "</div>\n",
    "\n",
    "The goal here is figure out what is the probability distribution function for $\\theta$. (All values of $\\theta$ are *not* equally likely.) We will solve this problem two ways and show that they agree."
   ]
  },
  {
   "cell_type": "markdown",
   "id": "22d116ab",
   "metadata": {},
   "source": [
    "# <font color=#46769B>Exercise</font>\n",
    "\n",
    "The Earth is (approximately) a sphere of radius $R$. Since the cross sectional area of a sphere is a circle, to a cosmic ray, the Earth looks like a dart board.\n",
    "\n",
    "<div>\n",
    "<img src=\"https://upload.wikimedia.org/wikipedia/commons/f/fb/Darts_in_a_dartboard.jpg\" width=\"400\">\n",
    "</div>\n",
    "\n",
    "Here is another picture to have in mind. Without loss of generality, we orient our coordinate frame so the cosmic ray is pointing down.\n",
    "\n",
    "<div>\n",
    "<img src=\"https://github.com/PHYS-2030-Computational-Methods/Lecture-notes/raw/main/figures/cosmic-ray-fig-2.png\" width=\"800\">\n",
    "</div>\n",
    "\n",
    "The cosmic ray hits a sphere, the Earth __(a)__. In projection, this looks like a circle __(b)__. Let's suppose the radius $s$ is the location where the cosmic ray hits the circular cross section of the Earth. (Note: $s \\le R$, where $R$ is the radius of the earth.) Once we know $s$, we can figure out the angle the cosmic ray makes with some trigonometry __(c)__:\n",
    "$$\\sin\\theta = s/R \\, .$$\n",
    "\n",
    "What is the probability of landing on a particular value of $s$? We need to know the PDF $P(s)$.\n",
    "\n",
    "Note $P(s) ds$ is the probability of landing between $s$ and $s+ds$. This is\n",
    "$$ P(s) \\, ds = \\frac{2 \\pi s \\, ds}{\\pi R^2}$$\n",
    "where the numerator is the area of a ring of radius $s$ and thickness $ds$, and the denominator is the area $\\pi R^2$ of the entire circle.\n",
    "The PDF is therefore\n",
    "$$P(s) = \\left\\{ \\begin{array}{cc} \\frac{2 s}{R^2} & {\\rm for} \\; 0 \\le s \\le R \\\\ 0 & {\\rm otherwise} \\end{array} \\right. \\, .\\qquad {\\rm (1)}$$ \n",
    "\n",
    "\n",
    "## <font color=#46769B>Part (a)</font> \n",
    "\n",
    "Perform a simulation generating $N=10^6$ random samples for $\\theta$ by sampling $s$ from $P(s)$ in Eq. (1). Here are the steps:\n",
    "- Determine (analytically) the CDF $C(s)$ corresponding to the PDF $P(s)$. \n",
    "- Analytically solve the equation $r = C(s)$ to determine the inverse CDF, $C^{-1}$.\n",
    "- Write a function `sample_s(num)` that will draw `num` random samples for $s$ from $P(s)$. (You compute $N$ random numbers $r$ in the domain $[0,1]$ and set $s=C^{-1}(r)$).\n",
    "- For each $s$ in your sample, compute $\\theta = \\sin^{-1}(s/R)$ to obtain a sample for $\\theta$.\n",
    "\n",
    "Make a histogram plot for your $\\theta$ samples.\n",
    "\n",
    "### <font color=#46769B>Hint:</font> \n",
    "\n",
    "You can work in units of \"Earth radii\" setting $R=1$."
   ]
  },
  {
   "cell_type": "code",
   "execution_count": 3,
   "id": "5735bf08",
   "metadata": {},
   "outputs": [
    {
     "data": {
      "image/png": "[encoded data removed]",
      "text/plain": [
       "<Figure size 432x288 with 1 Axes>"
      ]
     },
     "metadata": {
      "needs_background": "light"
     },
     "output_type": "display_data"
    }
   ],
   "source": [
    "import numpy as np\n",
    "import matplotlib.pyplot as plt\n",
    "\n",
    "# Analytic solution to P(s) is C(s) = s**2/R**2\n",
    "# Analytic solution to find the inverse of C(s) is s = np.sqrt(rR**2), we ignore the negative because s cannot be negative\n",
    "\n",
    "#Define radius of Earth\n",
    "R = 1\n",
    "\n",
    "#Define function to randomly sample s: \n",
    "def samples_s(num):\n",
    "  r = np.random.rand(num)\n",
    "  s_samples = np.sqrt(r*R**2)\n",
    "  return s_samples \n",
    "\n",
    "num = 1000000\n",
    "samples_s(num)\n",
    "\n",
    "#Solving for theta \n",
    "S = samples_s(num)\n",
    "theta = []\n",
    "for i in range(len(S)):\n",
    "  theta.append(np.arcsin(S[i]/R))\n",
    "\n",
    "plt.hist(theta, bins= 100, density=True, color= 'purple')\n",
    "plt.show()"
   ]
  },
  {
   "cell_type": "markdown",
   "id": "e76e8df9",
   "metadata": {},
   "source": [
    "## <font color=#46769B>Chain rule for PDFs</font>\n",
    "\n",
    "Next, we will obtain $P(\\theta)$ directly and sample from that. First, let me clarify the notation a bit. Every variable has *its own* PDF. So, I should write $P_s(s)$ for the PDF for $s$ (given above) and $P_\\theta(\\theta)$ will be the PDF for $\\theta$ that I will derive now.\n",
    "\n",
    "This is just to clarify that $P_s$ is a completely different function than $P_\\theta$. They are related by the chain rule.\n",
    "\n",
    "The key idea is that probabilities (not the PDFs) should be invariant no matter what variables I use. If a cosmic ray hits a certain patch of sky 5\\% of the time, it doesn't matter if I describe that patch in terms of $s$ or $\\theta$. This idea is written formally as \n",
    "$$P_s(s) \\, ds = P_\\theta(\\theta) \\, d\\theta \\, ,$$\n",
    "which says that the probability of being within the window $[s,s+ds]$ is equal to the probability of being within the window $[\\theta,\\theta+d\\theta]$.\n",
    "Rearranging this equation, we have\n",
    "$$P_\\theta(\\theta) = P_s(s) \\, \\frac{ds}{d\\theta}\\, .$$\n",
    "Plugging in $P_s(s)$, and using the facts that $s=R \\sin\\theta$ and $ds/d\\theta = R \\cos\\theta$, we have\n",
    "$$P_\\theta(\\theta) = \\left\\{ \\begin{array}{cc} \\sin 2\\theta & {\\rm for} \\; 0 \\le \\theta \\le \\frac{\\pi}{2} \\\\ \n",
    "0 & {\\rm otherwise} \\end{array} \\right. \\, . \\qquad {\\rm (2)}$$\n",
    "\n",
    "## <font color=#46769B>Part (b)</font>\n",
    "\n",
    "Perform a simulation generating $N=10^6$ random samples for $\\theta$ by sampling $\\theta$ from $P_\\theta(\\theta)$ in Eq. (2). Here are the steps:\n",
    "- Determine (analytically) the CDF $C_\\theta(\\theta)$ corresponding to the PDF $P_\\theta(\\theta)$. \n",
    "- Analytically solve the equation $r = C_\\theta(\\theta)$ to determine the inverse CDF, $C_\\theta^{-1}$.\n",
    "- Write a function `sample_theta(num)` that will draw `num` random samples for $\\theta$ from $P_\\theta(\\theta)$.\n",
    "\n",
    "Make a histogram plot for your $\\theta$ samples.\n",
    "\n",
    "Compare your histogram for parts (a) and (b) and a plot of the curve for $P_\\theta(\\theta)$. (Make one figure with everything in it.) Everything should agree!\n",
    "\n",
    "\n",
    "\n"
   ]
  },
  {
   "cell_type": "code",
   "execution_count": 5,
   "id": "cd3a9ff8",
   "metadata": {},
   "outputs": [
    {
     "data": {
      "image/png": "[encoded data removed]",
      "text/plain": [
       "<Figure size 432x288 with 1 Axes>"
      ]
     },
     "metadata": {
      "needs_background": "light"
     },
     "output_type": "display_data"
    }
   ],
   "source": [
    "import numpy as np \n",
    "import matplotlib.pyplot as plt\n",
    "#PDF can be rewritten as sin(2theta) = 2sin(theta)cos(theta)\n",
    "# Analytical solution of C(theta) = (sin(theta))**2\n",
    "#Solving for theta, theta = np.arcsin(np.sqrt(r))\n",
    "\n",
    "#Sampling theta \n",
    "def sample_theta(num):\n",
    "  r_theta = np.random.rand(num)\n",
    "  theta_samples = np.arcsin(np.sqrt(r_theta))\n",
    "  return theta_samples\n",
    "\n",
    "num = 1000000\n",
    "theta1 = sample_theta(num)\n",
    "\n",
    "# Defining the PDF\n",
    "x = np.linspace(0,(1/2*np.pi), 1000)\n",
    "PDF = np.sin(2*x)\n",
    "\n",
    "plt.plot(x,PDF, color = 'red', label = 'PDF')\n",
    "plt.hist(theta, bins= 100, density= True, color= 'purple', label = 'part a')\n",
    "plt.hist(theta1, bins = 100, density= True, color = 'gold', label = 'part b')\n",
    "plt.legend()\n",
    "plt.show()"
   ]
  },
  {
   "cell_type": "code",
   "execution_count": null,
   "id": "a66f1a70",
   "metadata": {},
   "outputs": [],
   "source": []
  }
 ],
 "metadata": {
  "kernelspec": {
   "display_name": "Python 3 (ipykernel)",
   "language": "python",
   "name": "python3"
  },
  "language_info": {
   "codemirror_mode": {
    "name": "ipython",
    "version": 3
   },
   "file_extension": ".py",
   "mimetype": "text/x-python",
   "name": "python",
   "nbconvert_exporter": "python",
   "pygments_lexer": "ipython3",
   "version": "3.9.7"
  }
 },
 "nbformat": 4,
 "nbformat_minor": 5
}
