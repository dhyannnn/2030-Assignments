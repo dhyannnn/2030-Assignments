{
  "cells": [
    {
      "cell_type": "markdown",
      "metadata": {
        "id": "view-in-github",
        "colab_type": "text"
      },
      "source": [
        "<a href=\"https://colab.research.google.com/github/dhyannnn/2030-Assignments/blob/main/Exercise%209%20-%20Multivariate%20normal%20distributions.ipynb\" target=\"_parent\"><img src=\"https://colab.research.google.com/assets/colab-badge.svg\" alt=\"Open In Colab\"/></a>"
      ]
    },
    {
      "cell_type": "markdown",
      "metadata": {
        "id": "FyiHHPBj-VpB"
      },
      "source": [
        "__Dhyan Thakkar__\n",
        "<br>\n",
        "Date: Jan. 31, 2021\n",
        "<br>\n",
        "PHYS 2030 W22"
      ]
    },
    {
      "cell_type": "markdown",
      "metadata": {
        "id": "cQlWH7FJ-VpE"
      },
      "source": [
        "# <center><font color=#46769B>Exercise 9: Multivariate normal distributions</font></center>\n",
        "\n",
        "## <font color=#46769B>Introduction</font>\n",
        "\n",
        "__Importance sampling__ is a method that can be applied to any multivariate PDF $P(x,y,z...)$ in general, whereas the inverse CDF method is limited to situations where the PDF can be factorized, i.e., written as a product of univariate PDFs like\n",
        "$$P(x,y,z,...) = P_x(x)P_y(y)P_z(z)... \\, .$$\n",
        "The key idea is that while the target distribution $P(x,y,z,...)$ may not be factorizable in general, we are free to choose out proposal distribution $Q(x,y,z,...)$ that *is* factorizable,\n",
        "$$Q(x,y,z,...) = Q_x(x)Q_y(y)Q_z(z)... \\, .$$\n",
        "Provided you are able to sample from each individual proposal PDF $Q_x(x)$, $Q_y(y)$, etc., separately, you are able to sample from $Q(x,y,z,...)$. By calculating the appropriate weights, you are able to calculate quantities with respect to the target distribution.\n",
        "\n",
        "Our goals for this notebook are:\n",
        "- Practice imporance sampling to describe a multivariate target distribution.\n",
        "- Generalize univariate normal distributions to multivariate normal distributions\n",
        "\n",
        "Required reading:\n",
        "- *Lesson 5: Multivariate distributions*\n",
        "\n",
        "\n",
        "## <font color=#46769B>Normal distributions: beyond one variable</font>\n",
        "\n",
        "Suppose we have two variables, $x$ and $y$, each described by an independent normal distribution $\\mathcal{N}(\\mu_x,\\sigma_x)$ and $\\mathcal{N}(\\mu_y,\\sigma_y)$. The joint probability distribution is\n",
        "$$ P(x,y) = \\mathcal{N}_x(x) \\mathcal{N}_y(y) = \\frac{1}{2\\pi \\sigma_x \\sigma_y} \\, \\exp\\left(-\\frac{(x-\\mu_x)^2}{2\\sigma_x^2} - \\frac{(y-\\mu_y)^2}{2\\sigma_y^2} \\right)  \\, .$$\n",
        "Let's rewrite this expression in a form that we will be able to generalize.\n",
        "First, we put the variables $x,y$ in a vector $\\vec{r}$, and similarly for their means $\\mu_x,\\mu_y$:\n",
        "$$ \\vec{r} = \\left( \\begin{array}{cc} x \\\\ y \\end{array} \\right) \\, , \\qquad\n",
        "\\vec{\\mu} = \\left( \\begin{array}{cc} \\mu_x \\\\ \\mu_y \\end{array} \\right)$$\n",
        "Next, we define a matrix\n",
        "$$C = \\left( \\begin{array}{cc} \\sigma_x^2 & 0 \\\\ 0 & \\sigma_y^2 \\end{array} \\right) \\, .$$\n",
        "Note the inverse of $C$ is simply\n",
        "$$C^{-1} = \\left( \\begin{array}{cc} \\sigma_x^{-2} & 0 \\\\ 0 & \\sigma_y^{-2} \\end{array} \\right) \\, .$$\n",
        "Then, with this new notation, we can write our PDF as\n",
        "$$ P(x,y) = \n",
        "\\frac{1}{2\\pi \\sqrt{\\det(C)}} \\, \\exp\\left(-\\frac{1}{2} (\\vec{r} - \\vec{\\mu})^T C^{-1} (\\vec{r} - \\vec{\\mu})\\right) \\, . \n",
        "\\qquad (1)$$\n",
        "\n",
        "It may occur to you that $C$ is the covariance matrix in the case where $x$ and $y$ are uncorrelated. Eq. (1) generalizes to the case with a nonzero correlation as well. One need only put in the appropriate (non-diagonal) correlation matrix $C$.\n",
        "\n",
        "The general formula for a multivariate normal distribution is as follows: \n",
        "$$ P(x,y,z,...) = \n",
        "\\frac{1}{\\sqrt{(2\\pi)^d \\det(C)}} \\, \\exp\\left(-\\frac{1}{2} (\\vec{r} - \\vec{\\mu})^T C^{-1} (\\vec{r} - \\vec{\\mu})\\right) \\, ,\n",
        "\\qquad (2)$$\n",
        "where the variables and their means are organized in vector form as\n",
        "$$ \\vec{r} = \\left( \\begin{array}{cc} x \\\\ y \\\\ z \\\\ \\vdots \\end{array} \\right) \\, , \\qquad\n",
        "\\vec{\\mu} = \\left( \\begin{array}{cc} \\mu_x \\\\ \\mu_y \\\\ \\mu_z \\\\ \\vdots \\end{array} \\right) \\, ,$$\n",
        "and the covariance matrix $C$ is a $d \\times d$ matrix."
      ]
    },
    {
      "cell_type": "markdown",
      "metadata": {
        "id": "sT-LT_xC-VpG"
      },
      "source": [
        "## <font color=#46769B>Goal</font>\n",
        "\n",
        "The task for this Exercise is to use __importance sampling__ to study a given multivariate normal distribution $P$.<font color=red>$^1$</font> Your tasks will be: \n",
        "- Generate samples from a proposal distribution $Q$.\n",
        "- Calculate the means and covariance matrix corresponding to $P$.\n",
        "- Plot weighted 2D histograms of your results.\n",
        "- Compare your results to those obtained with the built-in function `numpy.random.multivariate_normal`\n",
        "\n",
        "\n",
        "### <font color=#46769B>Footnotes</font>\n",
        "\n",
        "<font color=red>$^1$</font> The multivariate normal distribution can *always* be factorized, even if $C$ is nondiagonal, through a change of variables. In fact, this is the preferred way to sample from multivariate Gaussian distribution.\n",
        "\n",
        "\n"
      ]
    },
    {
      "cell_type": "markdown",
      "metadata": {
        "id": "MlrBlFOP-VpH"
      },
      "source": [
        "## <font color=#46769B>Part (a)</font>\n",
        "\n",
        "Consider a multivariate normal distribution $P(x,y,z)$ with three variables, $x,y,z$. Their mean values are\n",
        "$$\\mu_x = 0 , \\quad \\mu_y = 3  , \\quad \\mu_z = 1 \\, .$$\n",
        "Take the covariance matrix to be\n",
        "$$ C = \\left( \\begin{array}{ccc} 0.8 & 0.5 & 0.6 \\\\ 0.5 & 0.9 & 0.3 \\\\ 0.6 & 0.3 & 0.8 \\end{array} \\right)$$\n",
        "\n",
        "Complete the following steps: \n",
        "- Choose a proposal distribution that can be written as $Q(x,y,z) = \\mathcal{N}_x(x) \\mathcal{N}_y(y) \\mathcal{N}_z(z)$, i.e., your proposal distribution is a product of three (different) univariate Gaussian distributions.  Sampling from each one separately, generate $N= 10^6$ samples for $x$, $y$, and $z$ using `numpy.random.normal`. (You are free to choose the mean and width of each one as you see fit.)\n",
        "- Compute the weights $w_i$.\n",
        "- Determine the mean values $\\langle x \\rangle$, $\\langle y \\rangle$, $\\langle z \\rangle$ with respect to $P$.\n",
        "- From your samples, determine an estimate for the covariance matrix with respect to $P$.\n",
        "- Using `plt.hist2d`, plot 2D histograms corresponding to the marginalized PDFs $P(x,y)$, $P(x,z)$, $P(y,z)$. Be sure to label your axes using e.g., `plt.xlabel('y')` and `plt.ylabel('z')` if you are plotting $y$ vs $z$."
      ]
    },
    {
      "cell_type": "code",
      "execution_count": null,
      "metadata": {
        "id": "Cgbj48A4-VpH",
        "outputId": "1bbc7d99-c1ed-42f3-c009-af186b98d043",
        "colab": {
          "base_uri": "https://localhost:8080/",
          "height": 1000
        }
      },
      "outputs": [
        {
          "output_type": "stream",
          "name": "stdout",
          "text": [
            "The mean value of the weights is 1.384341584456174\n",
            "\n",
            "\n"
          ]
        },
        {
          "output_type": "display_data",
          "data": {
            "image/png": "[encoded data removed]",
            "text/plain": [
              "<Figure size 432x432 with 1 Axes>"
            ]
          },
          "metadata": {
            "needs_background": "light"
          }
        },
        {
          "output_type": "display_data",
          "data": {
            "image/png": "[encoded data removed]",
            "text/plain": [
              "<Figure size 432x288 with 1 Axes>"
            ]
          },
          "metadata": {
            "needs_background": "light"
          }
        },
        {
          "output_type": "display_data",
          "data": {
            "image/png": "[encoded data removed]",
            "text/plain": [
              "<Figure size 432x432 with 1 Axes>"
            ]
          },
          "metadata": {
            "needs_background": "light"
          }
        },
        {
          "output_type": "stream",
          "name": "stdout",
          "text": [
            "With weights:\n",
            "Mean of x is -0.015867817673386485\n",
            "Mean of y is 4.192239407199711\n",
            "Mean of z is 1.4638786751337165\n",
            "\n",
            "\n",
            "The covariance matrix is\n",
            "[[ 0.49230709  0.04951005 -0.19381264]\n",
            " [ 0.04951005  2.38265717  0.35969108]\n",
            " [-0.19381264  0.35969108  0.67751239]]\n"
          ]
        }
      ],
      "source": [
        "import numpy as np\n",
        "import matplotlib.pyplot as plt\n",
        "\n",
        "# Defining the known quantities\n",
        "mu = np.array([0, 3, 1])\n",
        "C = np.array([[0.8, 0.5, 0.6], [0.5, 0.9, 0.3], [0.6, 0.3, 0.8]])\n",
        "\n",
        "# Defining the pdfs\n",
        "\n",
        "def P(x,y,z):\n",
        "  j = []\n",
        "  for i in range(10**6):\n",
        "    k = (((2*np.pi)**-1.5)* ((np.linalg.det(C))**-0.5)) * (np.exp(-0.5 * ((np.transpose((x[i],y[i],z[i]) - mu)@(C**-1)) @((x[i],y[i],z[i]) - mu))))\n",
        "    j.append(k)\n",
        "  return j\n",
        "mu_x, mu_y, mu_z = 0, 3, 1\n",
        "sigma = 0.23\n",
        "def Q_x(x):\n",
        "  return 1/(np.sqrt(2*np.pi*sigma**2)) * (np.exp(-0.5*((x-mu_x)**2/sigma**2)))\n",
        "def Q_y(y):\n",
        "  return 1/(np.sqrt(2*np.pi*sigma**2)) * (np.exp(-0.5*((y-mu_y)**2/sigma**2)))\n",
        "def Q_z(z):\n",
        "  return 1/(np.sqrt(2*np.pi*sigma**2)) * (np.exp(-0.5*((z-mu_z)**2/sigma**2)))\n",
        "\n",
        "# Sampling x,y,z\n",
        "num = 10**6\n",
        "x_samples = np.random.normal(mu_x,sigma,num)\n",
        "y_samples = np.random.normal(mu_y,sigma,num)\n",
        "z_samples = np.random.normal(mu_z,sigma,num)\n",
        "\n",
        "# Calculate weights\n",
        "w = (P(x_samples,y_samples,z_samples)) / (Q_x(x_samples) * Q_y(y_samples) * Q_z(z_samples))\n",
        "print('The mean value of the weights is', np.mean(w))\n",
        "print('\\n')\n",
        "\n",
        "# Weighted histogram\n",
        "bins = [np.linspace(-5,5), np.linspace(-5,5)]\n",
        "plt.figure(figsize=(6,6))\n",
        "plt.hist2d(x_samples,y_samples,bins=bins,weights=w)\n",
        "plt.title('Weighted histogram of P(x,y)')\n",
        "plt.xlabel('x')\n",
        "plt.ylabel('y')\n",
        "plt.show()\n",
        "\n",
        "plt.hist2d(y_samples,z_samples, bins = bins , weights=w)\n",
        "plt.title('Weighted histogram of P(y,z)')\n",
        "plt.xlabel('y')\n",
        "plt.ylabel('z')\n",
        "plt.show\n",
        "\n",
        "plt.figure(figsize=(6,6))\n",
        "plt.hist2d(x_samples,z_samples,bins=bins,weights=w)\n",
        "plt.title('Weighted histogram of P(x,z)')\n",
        "plt.xlabel('x')\n",
        "plt.ylabel('z')\n",
        "plt.show()\n",
        "\n",
        "# Calculating Means \n",
        "def mean(x,weights=None):\n",
        "    \n",
        "    if weights is not None:\n",
        "        return np.mean(weights*x)\n",
        "    else:\n",
        "        return np.mean(x)\n",
        "\n",
        "print('With weights:')\n",
        "print('Mean of x is', mean(x_samples,weights=w))\n",
        "print('Mean of y is', mean(y_samples,weights=w))\n",
        "print('Mean of z is', mean(z_samples,weights=w))\n",
        "\n",
        "# Determining covariance matrix \n",
        "def cov_matrix(x,y,z,weights=None):\n",
        "    \n",
        "    if weights is not None:\n",
        "        x_mean = np.mean(weights*x)\n",
        "        y_mean = np.mean(weights*y)\n",
        "        z_mean = np.mean(weights*z)   \n",
        "        # Calculate each entry as a function\n",
        "        C_xx = np.mean(weights*(x-x_mean)**2)\n",
        "        C_yy = np.mean(weights*(y-y_mean)**2)\n",
        "        C_xy = np.mean(weights*(x-x_mean)*(y-y_mean))\n",
        "        C_zz = np.mean(weights*(z-z_mean)**2)\n",
        "        C_zy = np.mean(weights*(z-z_mean)*(y-y_mean))\n",
        "        C_zx = np.mean(weights* (z-z_mean)*(x-x_mean))\n",
        "        \n",
        "        return np.array([[C_xx,C_xy, C_zx],[C_xy,C_yy, C_zy], [C_zx,C_zy,C_zz]])\n",
        "    \n",
        "    else:\n",
        "        # Use built-in numpy function\n",
        "        return np.cov(x,y,z)\n",
        "print('\\n')\n",
        "print('The covariance matrix is')\n",
        "print(cov_matrix(x_samples,y_samples,z_samples,weights=w))\n",
        "\n"
      ]
    },
    {
      "cell_type": "markdown",
      "metadata": {
        "id": "MYvkvNJ7-VpI"
      },
      "source": [
        "## <font color=#46769B>Part (b)</font>\n",
        "\n",
        "The task here is to repeat part (a) using the built-in function `numpy.random.multivariate_normal`. See [documentation](https://numpy.org/doc/stable/reference/random/generated/numpy.random.multivariate_normal.html).\n",
        "\n",
        "Complete the following steps:\n",
        "- Generate samples for $x$, $y$, $z$ by sampling from $P$ directly.\n",
        "- Repeat the steps in part (a), calculating the means $\\langle x \\rangle$, $\\langle y \\rangle$ and the covariance $C$.\n",
        "- Generate the same set of plots using `plt.hist2d`\n",
        "\n",
        "### <font color=#46769B>Hint</font>\n",
        "\n",
        "Your output from `numpy.random.multivariate_normal` will be an $N \\times 3$-dimensional array, \n",
        "$$ \\left( \\begin{array}{ccc} x_0 & y_0 & z_0 \\\\ \\vdots & \\vdots & \\vdots \\\\x_{N-1} & y_{N-1} & z_{N-1} \\end{array} \\right) \\, .$$\n",
        "That is, it is a matrix and let's call it `output`. \n",
        "\n",
        "You can get the $(i,j)$ element as `output[i,j]`. To get *all* $x$ samples, for example, you want *all* the $i$ values for $j=0$. The syntax is \n",
        "```py\n",
        "x = output[:,0]\n",
        "```\n",
        "The `:` represents all values of the first index. This is known as [numpy array slicing](https://www.w3schools.com/python/numpy/numpy_array_slicing.asp)."
      ]
    },
    {
      "cell_type": "code",
      "execution_count": null,
      "metadata": {
        "id": "QG7JYoVq-VpJ",
        "outputId": "4a8222e0-ca75-4b38-d46a-28149ab98a55",
        "colab": {
          "base_uri": "https://localhost:8080/",
          "height": 1000
        }
      },
      "outputs": [
        {
          "output_type": "stream",
          "name": "stdout",
          "text": [
            "[[-0.65972974  2.79690744 -0.42604411]\n",
            " [ 0.18207496  3.84407924  1.6030105 ]\n",
            " [-2.21970586  1.64058042 -1.56024818]]\n",
            "\n",
            "\n",
            "[-0.65972974  0.18207496 -2.21970586]\n",
            "\n",
            "\n",
            "[2.79690744 3.84407924 1.64058042]\n",
            "\n",
            "\n",
            "[-0.42604411  1.6030105  -1.56024818]\n",
            "\n",
            "\n",
            "With weights:\n",
            "Mean of x is -0.8991202142879153\n",
            "Mean of y is 2.760522366673064\n",
            "Mean of z is -0.12776059587460634\n",
            "\n",
            "\n",
            "The covariance matrix is\n",
            "[[0.99007908 0.88640865 1.23053922]\n",
            " [0.88640865 0.80989645 1.1562796 ]\n",
            " [1.23053922 1.1562796  1.71218744]]\n"
          ]
        },
        {
          "output_type": "display_data",
          "data": {
            "image/png": "[encoded data removed]",
            "text/plain": [
              "<Figure size 432x432 with 1 Axes>"
            ]
          },
          "metadata": {
            "needs_background": "light"
          }
        },
        {
          "output_type": "display_data",
          "data": {
            "image/png": "[encoded data removed]",
            "text/plain": [
              "<Figure size 432x288 with 1 Axes>"
            ]
          },
          "metadata": {
            "needs_background": "light"
          }
        },
        {
          "output_type": "display_data",
          "data": {
            "image/png": "[encoded data removed]",
            "text/plain": [
              "<Figure size 432x432 with 1 Axes>"
            ]
          },
          "metadata": {
            "needs_background": "light"
          }
        }
      ],
      "source": [
        "import numpy as np\n",
        "import matplotlib.pyplot as plt \n",
        "\n",
        "output = np.random.multivariate_normal([0,3,1], ([0.8,0.5,0.6], [0.5,0.9,0.3], [0.6,0.3,0.8]), (3))\n",
        "print(output)\n",
        "print('\\n')\n",
        "x_samples2 = output[:, 0]\n",
        "print(x_samples2)\n",
        "print('\\n')\n",
        "y_samples2 = output[:,1]\n",
        "print(y_samples2)\n",
        "print('\\n')\n",
        "z_samples2 = output[:,2]\n",
        "print(z_samples2)\n",
        "print('\\n')\n",
        "\n",
        "# Finding means \n",
        "print('With weights:')\n",
        "print('Mean of x is', np.mean(x_samples2))\n",
        "print('Mean of y is', np.mean(y_samples2))\n",
        "print('Mean of z is', np.mean(z_samples2)) \n",
        "\n",
        "# Covariance Matrix \n",
        "def cov_matrix2(x,y,z):\n",
        "  C_xx2 = np.mean((x-np.mean(x_samples2))**2)\n",
        "  C_yy2 = np.mean((y-np.mean(y_samples2))**2)\n",
        "  C_xy2 = np.mean((x-np.mean(x_samples2))*(y-np.mean(y_samples2)))\n",
        "  C_zz2 = np.mean((z-np.mean(z_samples2))*(z-np.mean(z_samples2)))\n",
        "  C_zy2 = np.mean((z-np.mean(z_samples2))*(y-np.mean(y_samples2)))\n",
        "  C_zx2 = np.mean((z-np.mean(z_samples2))*(x-np.mean(x_samples2)))\n",
        "\n",
        "  return np.array([[C_xx2,C_xy2, C_zx2],[C_xy2,C_yy2, C_zy2], [C_zx2,C_zy2,C_zz2]])\n",
        "\n",
        "print('\\n')\n",
        "print('The covariance matrix is')\n",
        "print(cov_matrix2(x_samples2,y_samples2,z_samples2))\n",
        "\n",
        "\n",
        "# Plotting \n",
        "bins = [np.linspace(-20,20), np.linspace(-20,20)]\n",
        "plt.figure(figsize=(6,6))\n",
        "plt.hist2d(x_samples2,y_samples2,bins=bins)\n",
        "plt.title('Weighted histogram of P(x,y)')\n",
        "plt.xlabel('x')\n",
        "plt.ylabel('y')\n",
        "plt.show()\n",
        "\n",
        "plt.hist2d(y_samples2,z_samples2, bins = bins)\n",
        "plt.title('Weighted histogram of P(y,z)')\n",
        "plt.xlabel('y')\n",
        "plt.ylabel('z')\n",
        "plt.show\n",
        "\n",
        "plt.figure(figsize=(6,6))\n",
        "plt.hist2d(x_samples2,z_samples2,bins=bins)\n",
        "plt.title('Weighted histogram of P(x,z)')\n",
        "plt.xlabel('x')\n",
        "plt.ylabel('z')\n",
        "plt.show()"
      ]
    },
    {
      "cell_type": "code",
      "source": [
        ""
      ],
      "metadata": {
        "id": "wQ1abL9TPbJF"
      },
      "execution_count": null,
      "outputs": []
    }
  ],
  "metadata": {
    "kernelspec": {
      "display_name": "Python 3",
      "language": "python",
      "name": "python3"
    },
    "language_info": {
      "codemirror_mode": {
        "name": "ipython",
        "version": 3
      },
      "file_extension": ".py",
      "mimetype": "text/x-python",
      "name": "python",
      "nbconvert_exporter": "python",
      "pygments_lexer": "ipython3",
      "version": "3.7.6"
    },
    "colab": {
      "name": "Exercise 9 - Multivariate normal distributions.ipynb",
      "provenance": [],
      "include_colab_link": true
    }
  },
  "nbformat": 4,
  "nbformat_minor": 0
}